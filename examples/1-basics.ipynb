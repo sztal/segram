{
 "cells": [
  {
   "cell_type": "markdown",
   "metadata": {},
   "source": [
    "# `Segram` basics and single document analysis\n",
    "\n",
    "This notebook covers the basics of using `segram` package with a particular\n",
    "focus on the main functionalities provided by grammar classes\n",
    "(`segram.Doc`, `segram.Sent`, `segram.Phrase` and `segram.Component`)\n",
    "and analysis of a single document.\n",
    "\n",
    "<div class=\"alert alert-block alert-info\">\n",
    "For a more detailed discussion of the package and its features,\n",
    "including supported languages and language models, see REAMDE in the \n",
    "root directory of the <a href=\"https://github.com/sztal/segram\">Github repository</a> and the official documentation.\n",
    "<br><br>\n",
    "Furthermore, while this and other sample notebooks try to be as self-contained \n",
    "as possible, some basic familiarity with the <tt>spacy</tt> package is very much \n",
    "recommended (it has an excellent <a href=\"https://spacy.io/usage\">documentation</a>).\n",
    "</div>\n",
    "\n",
    "<div class=\"alert alert-block alert-warning\">\n",
    "For the code to run without any problems make sure that <tt>spacy</tt>\n",
    "and <tt>segram</tt> have been installed according to the instructions\n",
    "from README.\n",
    "</div>"
   ]
  },
  {
   "cell_type": "markdown",
   "metadata": {},
   "source": [
    "## Loading and configuring language model and pipeline components\n",
    "\n",
    "`Segram` is based on the excellent <a href=\"https://spacy.io/\">spacy</a> \n",
    "package, which is used to solve the core NLP tasks such as tokenization, \n",
    "POS and dependency tagging and entity recognition. Thus, before `segram` can be \n",
    "used it is necessary to load and initialize a `spacy` language model.\n",
    "As a matter of fact, `segram` functionalities are provided by a \n",
    "dedicated pipeline component, which is automatically registered with `spacy`\n",
    "upon the package installation. **This is the correct way to parse texts\n",
    "and create document objects with `segram`**.\n",
    "\n",
    "Crucially, to do any work we first need to download and install appropriate\n",
    "language models. In this respect `segram` is fully dependent on `spacy`,\n",
    "so we need only to download thoroughly tested models offered by `spacy`.\n",
    "We will need three different models:\n",
    "\n",
    "1. **Main English model based on the transformer architecture.**\n",
    "   In an environment in which `spacy` is already installed the\n",
    "   model can be obtained with the command `python -m spacy download en_core_web_trf`.\n",
    "2. **Word vector model.** The transformer model is powerful, but it does\n",
    "   not provide static word vectors, but only context-dependent vectors.\n",
    "   To use structured matching implemented in `segram` we need to have access\n",
    "   to context-free word vectors, so we obtain them from a different model.\n",
    "   This one can be downloaded with: `python -m spacy download en_core_web_lg`.\n",
    "3. **Coreference resolution model.** The last model will be used for implementing\n",
    "   coreference resolution. This is still experimental feature not integrated\n",
    "   into the core of `spacy`, so that is why we need to use an extra model\n",
    "   for that. It can be installed with:\n",
    "   `pip install https://github.com/explosion/spacy-experimental/releases/download/v0.6.1/en_coreference_web_trf-3.4.0a2-py3-none-any.whl`."
   ]
  },
  {
   "cell_type": "code",
   "execution_count": 3,
   "metadata": {},
   "outputs": [
    {
     "data": {
      "text/plain": [
       "<segram.nlp.pipeline.coref.Coref at 0x7f1b2723db50>"
      ]
     },
     "execution_count": 3,
     "metadata": {},
     "output_type": "execute_result"
    }
   ],
   "source": [
    "import spacy\n",
    "nlp = spacy.load(\"en_core_web_trf\")\n",
    "nlp.add_pipe(\"segram\", config={\n",
    "    \"vectors\": \"en_core_web_lg\"\n",
    "})\n",
    "nlp.add_pipe(\"segram_coref\")"
   ]
  },
  {
   "cell_type": "markdown",
   "metadata": {},
   "source": [
    "Let us now understand the meaning of the code we executed.\n",
    "\n",
    "1. Import `spacy` package.\n",
    "2. Load model for English using `spacy.load` function.\n",
    "3. Use `.add_pipe` method to add dedicated `segram` component.\n",
    "   The `vectors` option from the config specifies the name of a model\n",
    "   used for obtaining context-free word vectors. This is useful in the\n",
    "   case we want to use a model without such vectors such as `en_core_web_trf`\n",
    "   for solving core NLP tasks. \n",
    "4. Finally, we use `.add_pipe` again to add `segram_coref` module for \n",
    "   coreference resolution."
   ]
  },
  {
   "cell_type": "markdown",
   "metadata": {},
   "source": [
    "## Parsing texts into document & `segram` data model\n",
    "\n",
    "In this section we will learn how to parse raw texts (`str` objects)\n",
    "to get document objects providing us with all the nice methods for doing\n",
    "semantic grammar analysis. Along the way we will see a quick overview\n",
    "of the data model of `segram`.\n",
    "\n",
    "The code chunk below provides a simple text from an article covering the war in Syria\n",
    "(see `README` in the `examples/data` directory to learn mode about the dataset).\n",
    "\n",
    "<div class=\"alert alert-block alert-info\">\n",
    "We cover more complex analyses based on multiple texts\n",
    "in <tt>2-stories-and-frames.ipynb</tt> notebook.\n",
    "</div>"
   ]
  },
  {
   "cell_type": "code",
   "execution_count": 4,
   "metadata": {},
   "outputs": [],
   "source": [
    "text = (\n",
    "    \"Victims of a suspected chemical attack in Syria appeared to show symptoms\"\n",
    "    \" consistent with reaction to a nerve agent the World Health Organization said on Wednesday.\"\n",
    "    \" \\\"Some cases appear to show additional signs consistent with exposure to \"\n",
    "    \"organophosphorus chemicals a category of chemicals that includes nerve agents\\\"\"\n",
    "    \" WHO said in a statement putting the death toll at at least 70.\"\n",
    "    \" The United States has said the deaths were caused by sarin nerve gas dropped by Syrian aircraft.\"\n",
    "    \" Russia has said it believes poison gas had leaked from a rebel chemical weapons depot struck by Syrian bombs.\"\n",
    "    \" Sarin is an organophosporus compound and a nerve agent.\"\n",
    "    \" Chlorine and mustard gas which are also believed to have been used in the past in Syria are not.\"\n",
    "    \" A Russian Defence Ministry spokesman did not say what agent was used \"\n",
    "    \"in the attack but said the rebels had used the same chemical weapons in Aleppo last year.\"\n",
    "    \" The WHO said it was likely that some kind of chemical was used in the attack \"\n",
    "    \"because sufferers had no apparent external injuries and died from a rapid onset\"\n",
    "    \" of similar symptoms including acute respiratory distress. \"\n",
    "    \"It said its experts in Turkey were giving guidance to overwhelmed \"\n",
    "    \"health workers in Idlib on the diagnosis and treatment of patients and \"\n",
    "    \"medicines such as Atropine an antidote for some types of chemical exposure \"\n",
    "    \"and steroids for symptomatic treatment had been sent. \"\n",
    "    \"A U.N. Commission of Inquiry into human rights in Syria has previously said\"\n",
    "    \" forces loyal to Syrian President Bashar al-Assad have used lethal chlorine gas on multiple occasions.\"\n",
    "    \" Hundreds of civilians died in a sarin gas attack in Ghouta on the outskirts of Damascus in August 2013.\"\n",
    "    \" Assads government has always denied responsibility for that attack.\"\n",
    "    \" Syria agreed to destroy its chemical weapons in 2013 under a deal brokered by Moscow and Washington.\"\n",
    "    \" But Russia a Syrian ally and China have repeatedly vetoed any United Nations \"\n",
    "    \"move to sanction Assad or refer the situation in Syria to the International Criminal Court.\"\n",
    "    \" \\\"These types of weapons are banned by international law because they represent an intolerable barbarism\\\"\"\n",
    "    \" Peter Salama Executive Director of the WHO Health Emergencies Programme said in the WHO statement.\"\n",
    ")"
   ]
  },
  {
   "cell_type": "markdown",
   "metadata": {},
   "source": [
    "Now, we are ready to create our first document object. We simply follow the API\n",
    "of `spacy` and pass the text to our language model stored as `nlp` variable."
   ]
  },
  {
   "cell_type": "code",
   "execution_count": 10,
   "metadata": {},
   "outputs": [
    {
     "data": {
      "text/plain": [
       "Victims of a suspected chemical attack in Syria appeared to show symptoms consistent with reaction to a nerve agent the World Health Organization said on Wednesday. \"Some cases appear to show additional signs consistent with exposure to organophosphorus chemicals a category of chemicals that includes nerve agents\" WHO said in a statement putting the death toll at at least 70. The United States has said the deaths were caused by sarin nerve gas dropped by Syrian aircraft. Russia has said it believes poison gas had leaked from a rebel chemical weapons depot struck by Syrian bombs. Sarin is an organophosporus compound and a nerve agent. Chlorine and mustard gas which are also believed to have been used in the past in Syria are not. A Russian Defence Ministry spokesman did not say what agent was used in the attack but said the rebels had used the same chemical weapons in Aleppo last year. The WHO said it was likely that some kind of chemical was used in the attack because sufferers had no apparent external injuries and died from a rapid onset of similar symptoms including acute respiratory distress. It said its experts in Turkey were giving guidance to overwhelmed health workers in Idlib on the diagnosis and treatment of patients and medicines such as Atropine an antidote for some types of chemical exposure and steroids for symptomatic treatment had been sent. A U.N. Commission of Inquiry into human rights in Syria has previously said forces loyal to Syrian President Bashar al-Assad have used lethal chlorine gas on multiple occasions. Hundreds of civilians died in a sarin gas attack in Ghouta on the outskirts of Damascus in August 2013. Assads government has always denied responsibility for that attack. Syria agreed to destroy its chemical weapons in 2013 under a deal brokered by Moscow and Washington. But Russia a Syrian ally and China have repeatedly vetoed any United Nations move to sanction Assad or refer the situation in Syria to the International Criminal Court. \"These types of weapons are banned by international law because they represent an intolerable barbarism\" Peter Salama Executive Director of the WHO Health Emergencies Programme said in the WHO statement."
      ]
     },
     "execution_count": 10,
     "metadata": {},
     "output_type": "execute_result"
    }
   ],
   "source": [
    "spacy_doc = nlp(text)\n",
    "spacy_doc   # type(doc) --> spacy.tokens.doc.Doc"
   ]
  },
  {
   "cell_type": "markdown",
   "metadata": {},
   "source": [
    "This gave us a standard `spacy` document. To enjoy `segram` features we need\n",
    "to convert it to so-called **grammar document**, which is a wrapper object that\n",
    "sits on top of a document (using composition instead of inheritance)\n",
    "and exposes the semantic grammar framework to the user.\n",
    "\n",
    "Since this is a document composed of multiple sentences, let us first focus\n",
    "on the first sentence. During parsing documents are segmented into sentences\n",
    "(and sentences into tokens, typically but not necessarily corresponding to individual words),\n",
    "so we can easily iterate over the sentence sequence of a document."
   ]
  },
  {
   "cell_type": "code",
   "execution_count": 12,
   "metadata": {},
   "outputs": [
    {
     "data": {
      "text/plain": [
       "\u001b[38;5;220mVictims\u001b[0m \u001b[38;5;191mof\u001b[0m \u001b[38;5;220ma\u001b[0m \u001b[38;5;219msuspected\u001b[0m \u001b[38;5;219mchemical\u001b[0m \u001b[38;5;220mattack\u001b[0m \u001b[38;5;191min\u001b[0m \u001b[38;5;220mSyria\u001b[0m \u001b[38;5;196mappeared\u001b[0m \u001b[38;5;196mto\u001b[0m \u001b[38;5;196mshow\u001b[0m \u001b[38;5;220msymptoms\u001b[0m \u001b[38;5;219mconsistent\u001b[0m \u001b[38;5;191mwith\u001b[0m \u001b[38;5;220mreaction\u001b[0m \u001b[38;5;191mto\u001b[0m \u001b[38;5;220ma\u001b[0m \u001b[38;5;220mnerve\u001b[0m \u001b[38;5;220magent\u001b[0m \u001b[38;5;220mthe World Health Organization\u001b[0m \u001b[38;5;196msaid\u001b[0m \u001b[38;5;191mon\u001b[0m \u001b[38;5;220mWednesday\u001b[0m\u001b[38;5;196m.\u001b[0m "
      ]
     },
     "execution_count": 12,
     "metadata": {},
     "output_type": "execute_result"
    }
   ],
   "source": [
    "doc = spacy_doc._.segram  # convert the spacy document to a grammar doc\n",
    "sent = doc.sents[0]       # take the first sentence\n",
    "sent"
   ]
  },
  {
   "cell_type": "markdown",
   "metadata": {},
   "source": [
    "We can readily tell that we are dealing now with a sentence coming from a \n",
    "grammar document produced by `segram` as it is printed differently and uses \n",
    "colors to denote different **components**.\n",
    "\n",
    "Components are groups of tokens (not necessarily contiguous) controlled\n",
    "by a syntactically (and semantically) important head token. There are four\n",
    "types of components, which roughly correspond to the main parts-of-speech\n",
    "(i.e. are based on a coarse-grained POS typology):\n",
    "\n",
    "* Verbs (red) with alias `Verb`\n",
    "* Nouns (yellow/orange) with alias `Noun`\n",
    "* Descriptions (pink/violet) with alias `Desc`\n",
    "* Prepositions (green/lime) with alias `Prep`\n",
    "\n",
    "Why do we care about the aliases? To understand this let us see what is the\n",
    "actual class of, let us say, a verb component in our sentence."
   ]
  },
  {
   "cell_type": "code",
   "execution_count": 36,
   "metadata": {},
   "outputs": [
    {
     "data": {
      "text/plain": [
       "(segram.nlp.backend.rulebased.lang.en.grammar.components.RulebasedEnglishVerb,\n",
       " 'Verb')"
      ]
     },
     "execution_count": 36,
     "metadata": {},
     "output_type": "execute_result"
    }
   ],
   "source": [
    "verb = sent.verbs[0]  \n",
    "# use `.nouns`, `.descs` and `.preps` to access other types\n",
    "# all components are given by `.components` property\n",
    "type(verb), verb.alias"
   ]
  },
  {
   "cell_type": "markdown",
   "metadata": {},
   "source": [
    "Clearly, it is not a pure verb but a `RulebasedEnglishVerb`. This is an\n",
    "implementation detail, so we do not care. However, let us note that its\n",
    "alias is simply a string `\"Verb\"`.\n",
    "\n",
    "In principle, we could look for\n",
    "verbs using standard `isnstance` check, but this requires locating and importing\n",
    "base component classes appropriate for testing, so it would be nice to have\n",
    "an alternative way of testing whether a component belongs to a given type\n",
    "just by providing a string, which is easier to do on-the-fly. This is one\n",
    "of several reasons it is nice to have aliases."
   ]
  },
  {
   "cell_type": "code",
   "execution_count": 39,
   "metadata": {},
   "outputs": [
    {
     "data": {
      "text/plain": [
       "(are \u001b[38;5;196mbanned\u001b[0m, \u001b[38;5;196mrepresent\u001b[0m, \u001b[38;5;196msaid\u001b[0m)"
      ]
     },
     "execution_count": 39,
     "metadata": {},
     "output_type": "execute_result"
    }
   ],
   "source": [
    "# Finding verbs using `isinstance`\n",
    "from segram.grammar import Verb\n",
    "sent.components.filter(isinstance, Verb)"
   ]
  },
  {
   "cell_type": "code",
   "execution_count": 40,
   "metadata": {},
   "outputs": [
    {
     "data": {
      "text/plain": [
       "(are \u001b[38;5;196mbanned\u001b[0m, \u001b[38;5;196mrepresent\u001b[0m, \u001b[38;5;196msaid\u001b[0m)"
      ]
     },
     "execution_count": 40,
     "metadata": {},
     "output_type": "execute_result"
    }
   ],
   "source": [
    "# Using alias (importing `Verb` is not necessary)\n",
    "sent.components.filter(\"match\", alias=\"Verb\")"
   ]
  },
  {
   "cell_type": "markdown",
   "metadata": {},
   "source": [
    "Note that we used a custom framework for dealing with the rich data produced\n",
    "by `segram`. Namely, the `components` property (and this applies to all data\n",
    "properties and attributes of grammar classes) returns something that looks like\n",
    "a tuple, but it not exactly a vanilla tuple but rather its subclass called\n",
    "`DataTuple`."
   ]
  },
  {
   "cell_type": "code",
   "execution_count": 42,
   "metadata": {},
   "outputs": [
    {
     "data": {
      "text/plain": [
       "(segram.datastruct.collections.DataTuple,\n",
       " (These \u001b[38;5;220mtypes\u001b[0m,\n",
       "  \u001b[38;5;191mof\u001b[0m,\n",
       "  \u001b[38;5;220mweapons\u001b[0m,\n",
       "  are \u001b[38;5;196mbanned\u001b[0m,\n",
       "  \u001b[38;5;191mby\u001b[0m,\n",
       "  \u001b[38;5;219minternational\u001b[0m,\n",
       "  \u001b[38;5;220mlaw\u001b[0m,\n",
       "  \u001b[38;5;220mthey\u001b[0m[types],\n",
       "  \u001b[38;5;196mrepresent\u001b[0m,\n",
       "  \u001b[38;5;219mintolerable\u001b[0m,\n",
       "  an \u001b[38;5;220mbarbarism\u001b[0m,\n",
       "  \u001b[38;5;220mPeter Salama\u001b[0m,\n",
       "  \u001b[38;5;220mExecutive\u001b[0m,\n",
       "  \u001b[38;5;220mDirector\u001b[0m,\n",
       "  \u001b[38;5;191mof\u001b[0m,\n",
       "  \u001b[38;5;220mthe WHO Health Emergencies Programme\u001b[0m,\n",
       "  \u001b[38;5;196msaid\u001b[0m,\n",
       "  \u001b[38;5;191min\u001b[0m,\n",
       "  \u001b[38;5;220mWHO\u001b[0m,\n",
       "  the \u001b[38;5;220mstatement\u001b[0m))"
      ]
     },
     "execution_count": 42,
     "metadata": {},
     "output_type": "execute_result"
    }
   ],
   "source": [
    "type(sent.components), sent.components"
   ]
  },
  {
   "cell_type": "markdown",
   "metadata": {},
   "source": [
    "`DataTuple` is just a plain old tuple with several additional for data\n",
    "filtering and processing, most importantly, `map`, `filter`, `sort`, `pipe`,\n",
    "`groupby`, `get` and `flat`. We will discuss them in more detail shortly, \n",
    "but first let us try to do something slightly more useful and count occurrences\n",
    "of distinct descriptions in the whole document based on their lemmas. \n",
    "To do so we will need a little help of the `Counter` class from the `collections` module of the Python standard library.\n",
    "\n",
    "Below we describe this simple processing pipeline step-by-step in the comments\n",
    "in the code."
   ]
  },
  {
   "cell_type": "code",
   "execution_count": 49,
   "metadata": {},
   "outputs": [
    {
     "data": {
      "text/plain": [
       "Counter({\u001b[38;5;219msuspected\u001b[0m: 1,\n",
       "         \u001b[38;5;219mconsistent\u001b[0m: 1,\n",
       "         \u001b[38;5;219madditional\u001b[0m: 1,\n",
       "         \u001b[38;5;219mconsistent\u001b[0m: 1,\n",
       "         \u001b[38;5;219mSyrian\u001b[0m: 1,\n",
       "         \u001b[38;5;219mrebel\u001b[0m: 1,\n",
       "         \u001b[38;5;219mSyrian\u001b[0m: 1,\n",
       "         \u001b[38;5;219malso\u001b[0m: 1,\n",
       "         \u001b[38;5;219msame\u001b[0m: 1,\n",
       "         \u001b[38;5;219mchemical\u001b[0m: 1,\n",
       "         \u001b[38;5;219mlikely\u001b[0m: 1,\n",
       "         \u001b[38;5;219mapparent\u001b[0m: 1,\n",
       "         \u001b[38;5;219mexternal\u001b[0m: 1,\n",
       "         \u001b[38;5;219mrapid\u001b[0m: 1,\n",
       "         \u001b[38;5;219msimilar\u001b[0m: 1,\n",
       "         \u001b[38;5;219macute\u001b[0m: 1,\n",
       "         \u001b[38;5;219mrespiratory\u001b[0m: 1,\n",
       "         \u001b[38;5;219mits\u001b[0m[the World Health Organization]: 1,\n",
       "         \u001b[38;5;219moverwhelmed\u001b[0m: 1,\n",
       "         \u001b[38;5;219msuch\u001b[0m: 1,\n",
       "         \u001b[38;5;219mchemical\u001b[0m: 1,\n",
       "         \u001b[38;5;219msymptomatic\u001b[0m: 1,\n",
       "         \u001b[38;5;219mpreviously\u001b[0m: 1,\n",
       "         \u001b[38;5;219mloyal\u001b[0m: 1,\n",
       "         \u001b[38;5;219mSyrian\u001b[0m: 1,\n",
       "         \u001b[38;5;219mlethal\u001b[0m: 1,\n",
       "         \u001b[38;5;219mmultiple\u001b[0m: 1,\n",
       "         \u001b[38;5;219malways\u001b[0m: 1,\n",
       "         \u001b[38;5;219mits\u001b[0m[Syria]: 1,\n",
       "         \u001b[38;5;219mchemical\u001b[0m: 1,\n",
       "         \u001b[38;5;219mSyrian\u001b[0m: 1,\n",
       "         \u001b[38;5;219mrepeatedly\u001b[0m: 1,\n",
       "         \u001b[38;5;219minternational\u001b[0m: 1,\n",
       "         \u001b[38;5;219mintolerable\u001b[0m: 1})"
      ]
     },
     "execution_count": 49,
     "metadata": {},
     "output_type": "execute_result"
    }
   ],
   "source": [
    "from collections import Counter\n",
    "\n",
    "doc.sents \\\n",
    "    .get(\"descs\") \\\n",
    "    .flat \\\n",
    "    .groupby(\"\")"
   ]
  },
  {
   "cell_type": "code",
   "execution_count": 29,
   "metadata": {},
   "outputs": [
    {
     "data": {
      "text/plain": [
       "(\u001b[38;5;219msuspected\u001b[0m,\n",
       " \u001b[38;5;219mconsistent\u001b[0m,\n",
       " \u001b[38;5;219madditional\u001b[0m,\n",
       " \u001b[38;5;219mconsistent\u001b[0m,\n",
       " \u001b[38;5;219mSyrian\u001b[0m,\n",
       " \u001b[38;5;219mrebel\u001b[0m,\n",
       " \u001b[38;5;219mSyrian\u001b[0m,\n",
       " \u001b[38;5;219malso\u001b[0m,\n",
       " \u001b[38;5;219msame\u001b[0m,\n",
       " \u001b[38;5;219mchemical\u001b[0m,\n",
       " \u001b[38;5;219mlikely\u001b[0m,\n",
       " \u001b[38;5;219mapparent\u001b[0m,\n",
       " \u001b[38;5;219mexternal\u001b[0m,\n",
       " \u001b[38;5;219mrapid\u001b[0m,\n",
       " \u001b[38;5;219msimilar\u001b[0m,\n",
       " \u001b[38;5;219macute\u001b[0m,\n",
       " \u001b[38;5;219mrespiratory\u001b[0m,\n",
       " \u001b[38;5;219mits\u001b[0m[the World Health Organization],\n",
       " \u001b[38;5;219moverwhelmed\u001b[0m,\n",
       " \u001b[38;5;219msuch\u001b[0m,\n",
       " \u001b[38;5;219mchemical\u001b[0m,\n",
       " \u001b[38;5;219msymptomatic\u001b[0m,\n",
       " \u001b[38;5;219mpreviously\u001b[0m,\n",
       " \u001b[38;5;219mloyal\u001b[0m,\n",
       " \u001b[38;5;219mSyrian\u001b[0m,\n",
       " \u001b[38;5;219mlethal\u001b[0m,\n",
       " \u001b[38;5;219mmultiple\u001b[0m,\n",
       " \u001b[38;5;219malways\u001b[0m,\n",
       " \u001b[38;5;219mits\u001b[0m[Syria],\n",
       " \u001b[38;5;219mchemical\u001b[0m,\n",
       " \u001b[38;5;219mSyrian\u001b[0m,\n",
       " \u001b[38;5;219mrepeatedly\u001b[0m,\n",
       " \u001b[38;5;219minternational\u001b[0m,\n",
       " \u001b[38;5;219mintolerable\u001b[0m)"
      ]
     },
     "execution_count": 29,
     "metadata": {},
     "output_type": "execute_result"
    }
   ],
   "source": [
    "doc.sents.get(\"components\").flat.filter(\"match\", alias=\"Desc\")"
   ]
  },
  {
   "cell_type": "code",
   "execution_count": 34,
   "metadata": {},
   "outputs": [],
   "source": [
    "S = doc.sents \\\n",
    "    .get(\"proots\").flat \\\n",
    "    .filter(\"match\", **{\n",
    "        \"alias\": \"VP\",\n",
    "        \"subj\": lambda x: \\\n",
    "            x.filter(\"match\", \"World Health Organization|WHO\").any(),\n",
    "        \"verb\": lambda x:\n",
    "            x.get(\"head\").filter(\"match\", lemma=\"say\").any()\n",
    "    }) \\\n",
    "    .get(\"sent\") \\\n",
    "    .unique()"
   ]
  },
  {
   "cell_type": "code",
   "execution_count": 35,
   "metadata": {},
   "outputs": [
    {
     "name": "stdout",
     "output_type": "stream",
     "text": [
      "\u001b[38;5;220mVictims\u001b[0m \u001b[38;5;191mof\u001b[0m \u001b[38;5;220ma\u001b[0m \u001b[38;5;219msuspected\u001b[0m \u001b[38;5;219mchemical\u001b[0m \u001b[38;5;220mattack\u001b[0m \u001b[38;5;191min\u001b[0m \u001b[38;5;220mSyria\u001b[0m \u001b[38;5;196mappeared\u001b[0m \u001b[38;5;196mto\u001b[0m \u001b[38;5;196mshow\u001b[0m \u001b[38;5;220msymptoms\u001b[0m \u001b[38;5;219mconsistent\u001b[0m \u001b[38;5;191mwith\u001b[0m \u001b[38;5;220mreaction\u001b[0m \u001b[38;5;191mto\u001b[0m \u001b[38;5;220ma\u001b[0m \u001b[38;5;220mnerve\u001b[0m \u001b[38;5;220magent\u001b[0m \u001b[38;5;220mthe World Health Organization\u001b[0m \u001b[38;5;196msaid\u001b[0m \u001b[38;5;191mon\u001b[0m \u001b[38;5;220mWednesday\u001b[0m\u001b[38;5;196m.\u001b[0m \n",
      "\u001b[38;5;196m\"\u001b[0m\u001b[38;5;220mSome\u001b[0m \u001b[38;5;220mcases\u001b[0m \u001b[38;5;196mappear\u001b[0m \u001b[38;5;196mto\u001b[0m \u001b[38;5;196mshow\u001b[0m \u001b[38;5;219madditional\u001b[0m \u001b[38;5;220msigns\u001b[0m \u001b[38;5;219mconsistent\u001b[0m \u001b[38;5;191mwith\u001b[0m \u001b[38;5;220mexposure\u001b[0m \u001b[38;5;191mto\u001b[0m \u001b[38;5;220morganophosphorus\u001b[0m \u001b[38;5;220mchemicals\u001b[0m \u001b[38;5;220ma\u001b[0m \u001b[38;5;220mcategory\u001b[0m \u001b[38;5;191mof\u001b[0m \u001b[38;5;220mchemicals\u001b[0m \u001b[38;5;220mthat\u001b[0m \u001b[38;5;196mincludes\u001b[0m \u001b[38;5;220mnerve\u001b[0m \u001b[38;5;220magents\u001b[0m\u001b[38;5;196m\"\u001b[0m \u001b[38;5;220mWHO\u001b[0m \u001b[38;5;196msaid\u001b[0m \u001b[38;5;191min\u001b[0m \u001b[38;5;220ma\u001b[0m \u001b[38;5;220mstatement\u001b[0m \u001b[38;5;196mputting\u001b[0m \u001b[38;5;220mthe\u001b[0m \u001b[38;5;220mdeath\u001b[0m \u001b[38;5;220mtoll\u001b[0m \u001b[38;5;191mat\u001b[0m \u001b[38;5;220mat least 70\u001b[0m\u001b[38;5;196m.\u001b[0m \n",
      "The United States has said the deaths were caused by sarin nerve gas dropped by Syrian aircraft. \n",
      "Russia has said it[Russia] believes poison gas had leaked from a rebel chemical weapons depot struck by Syrian bombs. \n",
      "Sarin is an organophosporus compound and a nerve agent. \n",
      "Chlorine and mustard gas which are also believed to have been used in the past in Syria are not. \n",
      "A Russian Defence Ministry spokesman did not say what agent was used in the attack but said the rebels had used the same chemical weapons in Aleppo last year. \n",
      "\u001b[38;5;220mThe\u001b[0m \u001b[38;5;220mWHO\u001b[0m \u001b[38;5;196msaid\u001b[0m \u001b[38;5;220mit\u001b[0m \u001b[38;5;196mwas\u001b[0m \u001b[38;5;219mlikely\u001b[0m \u001b[38;5;196mthat\u001b[0m \u001b[38;5;220msome\u001b[0m \u001b[38;5;220mkind\u001b[0m \u001b[38;5;191mof\u001b[0m \u001b[38;5;220mchemical\u001b[0m \u001b[38;5;196mwas\u001b[0m \u001b[38;5;196mused\u001b[0m \u001b[38;5;191min\u001b[0m \u001b[38;5;220mthe\u001b[0m \u001b[38;5;220mattack\u001b[0m \u001b[38;5;196mbecause\u001b[0m \u001b[38;5;220msufferers\u001b[0m \u001b[38;5;196mhad\u001b[0m \u001b[38;5;220mno\u001b[0m \u001b[38;5;219mapparent\u001b[0m \u001b[38;5;219mexternal\u001b[0m \u001b[38;5;220minjuries\u001b[0m \u001b[38;5;196mand\u001b[0m \u001b[38;5;196mdied\u001b[0m \u001b[38;5;191mfrom\u001b[0m \u001b[38;5;220ma\u001b[0m \u001b[38;5;219mrapid\u001b[0m \u001b[38;5;220monset\u001b[0m \u001b[38;5;191mof\u001b[0m \u001b[38;5;219msimilar\u001b[0m \u001b[38;5;220msymptoms\u001b[0m \u001b[38;5;191mincluding\u001b[0m \u001b[38;5;219macute\u001b[0m \u001b[38;5;219mrespiratory\u001b[0m \u001b[38;5;220mdistress\u001b[0m\u001b[38;5;196m.\u001b[0m \n",
      "\u001b[38;5;220mIt\u001b[0m[the World Health Organization] \u001b[38;5;196msaid\u001b[0m \u001b[38;5;219mits\u001b[0m[the World Health Organization] \u001b[38;5;220mexperts\u001b[0m \u001b[38;5;191min\u001b[0m \u001b[38;5;220mTurkey\u001b[0m \u001b[38;5;196mwere\u001b[0m \u001b[38;5;196mgiving\u001b[0m \u001b[38;5;220mguidance\u001b[0m \u001b[38;5;191mto\u001b[0m \u001b[38;5;219moverwhelmed\u001b[0m \u001b[38;5;220mhealth\u001b[0m \u001b[38;5;220mworkers\u001b[0m \u001b[38;5;191min\u001b[0m \u001b[38;5;220mIdlib\u001b[0m \u001b[38;5;191mon\u001b[0m \u001b[38;5;220mthe\u001b[0m \u001b[38;5;220mdiagnosis\u001b[0m \u001b[38;5;220mand\u001b[0m \u001b[38;5;220mtreatment\u001b[0m \u001b[38;5;191mof\u001b[0m \u001b[38;5;220mpatients\u001b[0m \u001b[38;5;220mand\u001b[0m \u001b[38;5;220mmedicines\u001b[0m \u001b[38;5;219msuch\u001b[0m \u001b[38;5;191mas\u001b[0m \u001b[38;5;220mAtropine\u001b[0m \u001b[38;5;220man\u001b[0m \u001b[38;5;220mantidote\u001b[0m \u001b[38;5;191mfor\u001b[0m \u001b[38;5;220msome\u001b[0m \u001b[38;5;220mtypes\u001b[0m \u001b[38;5;191mof\u001b[0m \u001b[38;5;219mchemical\u001b[0m \u001b[38;5;220mexposure\u001b[0m \u001b[38;5;220mand\u001b[0m \u001b[38;5;220msteroids\u001b[0m \u001b[38;5;191mfor\u001b[0m \u001b[38;5;219msymptomatic\u001b[0m \u001b[38;5;220mtreatment\u001b[0m \u001b[38;5;196mhad\u001b[0m \u001b[38;5;196mbeen\u001b[0m \u001b[38;5;196msent\u001b[0m\u001b[38;5;196m.\u001b[0m \n",
      "A U.N. Commission of Inquiry into human rights in Syria has previously said forces loyal to Syrian President Bashar al-Assad have used lethal chlorine gas on multiple occasions. \n",
      "Hundreds of civilians died in a sarin gas attack in Ghouta on the outskirts of Damascus in August 2013. \n",
      "Assads government has always denied responsibility for that attack. \n",
      "Syria agreed to destroy its[Syria] chemical weapons in 2013 under a deal brokered by Moscow and Washington. \n",
      "But Russia a Syrian ally and China have repeatedly vetoed any United Nations move to sanction Assad or refer the situation in Syria to the International Criminal Court. \n",
      "\u001b[38;5;196m\"\u001b[0m\u001b[38;5;220mThese\u001b[0m \u001b[38;5;220mtypes\u001b[0m \u001b[38;5;191mof\u001b[0m \u001b[38;5;220mweapons\u001b[0m \u001b[38;5;196mare\u001b[0m \u001b[38;5;196mbanned\u001b[0m \u001b[38;5;191mby\u001b[0m \u001b[38;5;219minternational\u001b[0m \u001b[38;5;220mlaw\u001b[0m \u001b[38;5;196mbecause\u001b[0m \u001b[38;5;220mthey\u001b[0m[types] \u001b[38;5;196mrepresent\u001b[0m \u001b[38;5;220man\u001b[0m \u001b[38;5;219mintolerable\u001b[0m \u001b[38;5;220mbarbarism\u001b[0m\u001b[38;5;196m\"\u001b[0m \u001b[38;5;220mPeter Salama\u001b[0m \u001b[38;5;220mExecutive\u001b[0m \u001b[38;5;220mDirector\u001b[0m \u001b[38;5;191mof\u001b[0m \u001b[38;5;220mthe WHO Health Emergencies Programme\u001b[0m \u001b[38;5;196msaid\u001b[0m \u001b[38;5;191min\u001b[0m \u001b[38;5;220mthe\u001b[0m \u001b[38;5;220mWHO\u001b[0m \u001b[38;5;220mstatement\u001b[0m\u001b[38;5;196m.\u001b[0m\n"
     ]
    }
   ],
   "source": [
    "for sent in doc.sents:\n",
    "    print(sent.to_str(color=sent in S))"
   ]
  },
  {
   "cell_type": "code",
   "execution_count": null,
   "metadata": {},
   "outputs": [],
   "source": []
  }
 ],
 "metadata": {
  "kernelspec": {
   "display_name": "Python 3 (ipykernel)",
   "language": "python",
   "name": "python3"
  },
  "language_info": {
   "codemirror_mode": {
    "name": "ipython",
    "version": 3
   },
   "file_extension": ".py",
   "mimetype": "text/x-python",
   "name": "python",
   "nbconvert_exporter": "python",
   "pygments_lexer": "ipython3",
   "version": "3.11.5"
  }
 },
 "nbformat": 4,
 "nbformat_minor": 4
}
