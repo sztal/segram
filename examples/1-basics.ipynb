{
 "cells": [
  {
   "cell_type": "markdown",
   "metadata": {},
   "source": [
    "# `Segram` basics and single document analysis\n",
    "\n",
    "This notebook covers the basics of using `segram` package with a particular\n",
    "focus on the main functionalities provided by grammar classes\n",
    "(`segram.Doc`, `segram.Sent`, `segram.Phrase` and `segram.Component`)\n",
    "and analysis of a single document.\n",
    "\n",
    "<div class=\"alert alert-block alert-success\">\n",
    "For a more detailed discussion of the package and its features,\n",
    "including supported languages and language models, see REAMDE in the \n",
    "root directory of the <a href=\"https://github.com/sztal/segram\">Github repository</a> and the official documentation.\n",
    "<br><br>\n",
    "Furthermore, while this and other sample notebooks try to be as self-contained \n",
    "as possible, some basic familiarity with the <tt>spacy</tt> package is very much \n",
    "recommended (it has an excellent <a href=\"https://spacy.io/usage\">documentation</a>).\n",
    "</div>\n",
    "\n",
    "<div class=\"alert alert-block alert-warning\">\n",
    "For the code to run without any problems make sure that <tt>spacy</tt>\n",
    "and <tt>segram</tt> have been installed according to the instructions\n",
    "from README.\n",
    "</div>"
   ]
  },
  {
   "cell_type": "markdown",
   "metadata": {},
   "source": [
    "## Loading and configuring language model and pipeline components\n",
    "\n",
    "`Segram` is based on the excellent <a href=\"https://spacy.io/\">spacy</a> \n",
    "package, which is used to solve the core NLP tasks such as tokenization, \n",
    "POS and dependency tagging and entity recognition. Thus, before `segram` can be \n",
    "used it is necessary to load and initialize a `spacy` language model.\n",
    "As a matter of fact, `segram` functionalities are provided by a \n",
    "dedicated pipeline component, which is automatically registered with `spacy`\n",
    "upon the package installation. **This is the correct way to parse texts\n",
    "and create document objects with `segram`**.\n",
    "\n",
    "Crucially, to do any work we first need to download and install appropriate\n",
    "language models. In this respect `segram` is fully dependent on `spacy`,\n",
    "so we need only to download thoroughly tested models offered by `spacy`.\n",
    "We will need three different models:\n",
    "\n",
    "1. **Main English model based on the transformer architecture.**\n",
    "   In an environment in which `spacy` is already installed the\n",
    "   model can be obtained with the command `python -m spacy download en_core_web_trf`.\n",
    "2. **Word vector model.** The transformer model is powerful, but it does\n",
    "   not provide static word vectors, but only context-dependent vectors.\n",
    "   To use structured matching implemented in `segram` we need to have access\n",
    "   to context-free word vectors, so we obtain them from a different model.\n",
    "   This one can be downloaded with: `python -m spacy download en_core_web_lg`.\n",
    "3. **Coreference resolution model.** The last model will be used for implementing\n",
    "   coreference resolution. This is still experimental feature not integrated\n",
    "   into the core of `spacy`, so that is why we need to use an extra model\n",
    "   for that. It can be installed with:\n",
    "   `pip install https://github.com/explosion/spacy-experimental/releases/download/v0.6.1/en_coreference_web_trf-3.4.0a2-py3-none-any.whl`."
   ]
  },
  {
   "cell_type": "code",
   "execution_count": 51,
   "metadata": {},
   "outputs": [
    {
     "data": {
      "text/plain": [
       "<segram.nlp.pipeline.coref.Coref at 0x7fc42fdc80d0>"
      ]
     },
     "execution_count": 51,
     "metadata": {},
     "output_type": "execute_result"
    }
   ],
   "source": [
    "import spacy\n",
    "nlp = spacy.load(\"en_core_web_trf\")\n",
    "nlp.add_pipe(\"segram\", config={\n",
    "    \"vectors\": \"en_core_web_lg\"\n",
    "})\n",
    "nlp.add_pipe(\"segram_coref\")"
   ]
  },
  {
   "cell_type": "markdown",
   "metadata": {},
   "source": [
    "Let us now understand the meaning of the code we executed.\n",
    "\n",
    "1. Import `spacy` package.\n",
    "2. Load model for English using `spacy.load` function.\n",
    "3. Use `.add_pipe` method to add dedicated `segram` component.\n",
    "   The `vectors` option from the config specifies the name of a model\n",
    "   used for obtaining context-free word vectors. This is useful in the\n",
    "   case we want to use a model without such vectors such as `en_core_web_trf`\n",
    "   for solving core NLP tasks. \n",
    "4. Finally, we use `.add_pipe` again to add `segram_coref` module for \n",
    "   coreference resolution."
   ]
  },
  {
   "cell_type": "markdown",
   "metadata": {},
   "source": [
    "## Parsing texts into document & `segram` data model\n",
    "\n",
    "In this section we will learn how to parse raw texts (`str` objects)\n",
    "to get document objects providing us with all the nice methods for doing\n",
    "semantic grammar analysis. Along the way we will see a quick overview\n",
    "of the data model of `segram`.\n",
    "\n",
    "The code chunk below provides a simple text from an article covering the war in Syria\n",
    "(see `README` in the `examples/data` directory to learn mode about the dataset).\n",
    "\n",
    "<div class=\"alert alert-block alert-success\">\n",
    "We cover more complex analyses based on multiple texts\n",
    "in <tt>2-stories-and-frames.ipynb</tt> notebook.\n",
    "</div>"
   ]
  },
  {
   "cell_type": "code",
   "execution_count": 52,
   "metadata": {},
   "outputs": [],
   "source": [
    "text = (\n",
    "    \"Victims of a suspected chemical attack in Syria appeared to show symptoms\"\n",
    "    \" consistent with reaction to a nerve agent the World Health Organization said on Wednesday.\"\n",
    "    \" \\\"Some cases appear to show additional signs consistent with exposure to \"\n",
    "    \"organophosphorus chemicals a category of chemicals that includes nerve agents\\\"\"\n",
    "    \" WHO said in a statement putting the death toll at at least 70.\"\n",
    "    \" The United States has said the deaths were caused by sarin nerve gas dropped by Syrian aircraft.\"\n",
    "    \" Russia has said it believes poison gas had leaked from a rebel chemical weapons depot struck by Syrian bombs.\"\n",
    "    \" Sarin is an organophosporus compound and a nerve agent.\"\n",
    "    \" Chlorine and mustard gas which are also believed to have been used in the past in Syria are not.\"\n",
    "    \" A Russian Defence Ministry spokesman did not say what agent was used \"\n",
    "    \"in the attack but said the rebels had used the same chemical weapons in Aleppo last year.\"\n",
    "    \" The WHO said it was likely that some kind of chemical was used in the attack \"\n",
    "    \"because sufferers had no apparent external injuries and died from a rapid onset\"\n",
    "    \" of similar symptoms including acute respiratory distress. \"\n",
    "    \"It said its experts in Turkey were giving guidance to overwhelmed \"\n",
    "    \"health workers in Idlib on the diagnosis and treatment of patients and \"\n",
    "    \"medicines such as Atropine an antidote for some types of chemical exposure \"\n",
    "    \"and steroids for symptomatic treatment had been sent. \"\n",
    "    \"A U.N. Commission of Inquiry into human rights in Syria has previously said\"\n",
    "    \" forces loyal to Syrian President Bashar al-Assad have used lethal chlorine gas on multiple occasions.\"\n",
    "    \" Hundreds of civilians died in a sarin gas attack in Ghouta on the outskirts of Damascus in August 2013.\"\n",
    "    \" Assads government has always denied responsibility for that attack.\"\n",
    "    \" Syria agreed to destroy its chemical weapons in 2013 under a deal brokered by Moscow and Washington.\"\n",
    "    \" But Russia a Syrian ally and China have repeatedly vetoed any United Nations \"\n",
    "    \"move to sanction Assad or refer the situation in Syria to the International Criminal Court.\"\n",
    "    \" \\\"These types of weapons are banned by international law because they represent an intolerable barbarism\\\"\"\n",
    "    \" Peter Salama Executive Director of the WHO Health Emergencies Programme said in the WHO statement.\"\n",
    ")"
   ]
  },
  {
   "cell_type": "markdown",
   "metadata": {},
   "source": [
    "Now, we are ready to create our first document object. We simply follow the API\n",
    "of `spacy` and pass the text to our language model stored as `nlp` variable."
   ]
  },
  {
   "cell_type": "code",
   "execution_count": 53,
   "metadata": {},
   "outputs": [
    {
     "data": {
      "text/plain": [
       "Victims of a suspected chemical attack in Syria appeared to show symptoms consistent with reaction to a nerve agent the World Health Organization said on Wednesday. \"Some cases appear to show additional signs consistent with exposure to organophosphorus chemicals a category of chemicals that includes nerve agents\" WHO said in a statement putting the death toll at at least 70. The United States has said the deaths were caused by sarin nerve gas dropped by Syrian aircraft. Russia has said it believes poison gas had leaked from a rebel chemical weapons depot struck by Syrian bombs. Sarin is an organophosporus compound and a nerve agent. Chlorine and mustard gas which are also believed to have been used in the past in Syria are not. A Russian Defence Ministry spokesman did not say what agent was used in the attack but said the rebels had used the same chemical weapons in Aleppo last year. The WHO said it was likely that some kind of chemical was used in the attack because sufferers had no apparent external injuries and died from a rapid onset of similar symptoms including acute respiratory distress. It said its experts in Turkey were giving guidance to overwhelmed health workers in Idlib on the diagnosis and treatment of patients and medicines such as Atropine an antidote for some types of chemical exposure and steroids for symptomatic treatment had been sent. A U.N. Commission of Inquiry into human rights in Syria has previously said forces loyal to Syrian President Bashar al-Assad have used lethal chlorine gas on multiple occasions. Hundreds of civilians died in a sarin gas attack in Ghouta on the outskirts of Damascus in August 2013. Assads government has always denied responsibility for that attack. Syria agreed to destroy its chemical weapons in 2013 under a deal brokered by Moscow and Washington. But Russia a Syrian ally and China have repeatedly vetoed any United Nations move to sanction Assad or refer the situation in Syria to the International Criminal Court. \"These types of weapons are banned by international law because they represent an intolerable barbarism\" Peter Salama Executive Director of the WHO Health Emergencies Programme said in the WHO statement."
      ]
     },
     "execution_count": 53,
     "metadata": {},
     "output_type": "execute_result"
    }
   ],
   "source": [
    "spacy_doc = nlp(text)\n",
    "spacy_doc   # type(doc) --> spacy.tokens.doc.Doc"
   ]
  },
  {
   "cell_type": "markdown",
   "metadata": {},
   "source": [
    "This gave us a standard `spacy` document. To enjoy `segram` features we need\n",
    "to convert it to so-called **grammar document**, which is a wrapper object that\n",
    "sits on top of a document (using composition instead of inheritance)\n",
    "and exposes the semantic grammar framework to the user.\n",
    "\n",
    "Since this is a document composed of multiple sentences, let us first focus\n",
    "on the first sentence. During parsing documents are segmented into sentences\n",
    "(and sentences into tokens, typically but not necessarily corresponding to individual words),\n",
    "so we can easily iterate over the sentence sequence of a document."
   ]
  },
  {
   "cell_type": "code",
   "execution_count": 54,
   "metadata": {},
   "outputs": [
    {
     "data": {
      "text/plain": [
       "\u001b[38;5;220mVictims\u001b[0m \u001b[38;5;191mof\u001b[0m \u001b[38;5;220ma\u001b[0m \u001b[38;5;219msuspected\u001b[0m \u001b[38;5;219mchemical\u001b[0m \u001b[38;5;220mattack\u001b[0m \u001b[38;5;191min\u001b[0m \u001b[38;5;220mSyria\u001b[0m \u001b[38;5;196mappeared\u001b[0m \u001b[38;5;196mto\u001b[0m \u001b[38;5;196mshow\u001b[0m \u001b[38;5;220msymptoms\u001b[0m \u001b[38;5;219mconsistent\u001b[0m \u001b[38;5;191mwith\u001b[0m \u001b[38;5;220mreaction\u001b[0m \u001b[38;5;191mto\u001b[0m \u001b[38;5;220ma\u001b[0m \u001b[38;5;220mnerve\u001b[0m \u001b[38;5;220magent\u001b[0m \u001b[38;5;220mthe World Health Organization\u001b[0m \u001b[38;5;196msaid\u001b[0m \u001b[38;5;191mon\u001b[0m \u001b[38;5;220mWednesday\u001b[0m\u001b[38;5;196m.\u001b[0m "
      ]
     },
     "execution_count": 54,
     "metadata": {},
     "output_type": "execute_result"
    }
   ],
   "source": [
    "doc = spacy_doc._.segram  # convert the spacy document to a grammar doc\n",
    "sent = doc.sents[0]       # take the first sentence\n",
    "sent"
   ]
  },
  {
   "cell_type": "markdown",
   "metadata": {},
   "source": [
    "We can readily tell that we are dealing now with a sentence coming from a \n",
    "grammar document produced by `segram` as it is printed differently and uses \n",
    "colors to denote different **components**.\n",
    "\n",
    "### Components\n",
    "\n",
    "Components are groups of tokens (not necessarily contiguous) controlled\n",
    "by a syntactically (and semantically) important head token. There are four\n",
    "types of components, which roughly correspond to the main parts-of-speech\n",
    "(i.e. are based on a coarse-grained POS typology):\n",
    "\n",
    "* Verbs (red) with alias `Verb`\n",
    "* Nouns (yellow/orange) with alias `Noun`\n",
    "* Descriptions (pink/violet) with alias `Desc`\n",
    "* Prepositions (green/lime) with alias `Prep`\n",
    "  \n",
    "Importantly, components within a sentence are non-overlapping, and jointly they\n",
    "form its partition. This is visually represented using different colors\n",
    "when printing grammar sentences to the console."
   ]
  },
  {
   "cell_type": "code",
   "execution_count": 55,
   "metadata": {},
   "outputs": [
    {
     "data": {
      "text/plain": [
       "\u001b[38;5;220mVictims\u001b[0m \u001b[38;5;191mof\u001b[0m \u001b[38;5;220ma\u001b[0m \u001b[38;5;219msuspected\u001b[0m \u001b[38;5;219mchemical\u001b[0m \u001b[38;5;220mattack\u001b[0m \u001b[38;5;191min\u001b[0m \u001b[38;5;220mSyria\u001b[0m \u001b[38;5;196mappeared\u001b[0m \u001b[38;5;196mto\u001b[0m \u001b[38;5;196mshow\u001b[0m \u001b[38;5;220msymptoms\u001b[0m \u001b[38;5;219mconsistent\u001b[0m \u001b[38;5;191mwith\u001b[0m \u001b[38;5;220mreaction\u001b[0m \u001b[38;5;191mto\u001b[0m \u001b[38;5;220ma\u001b[0m \u001b[38;5;220mnerve\u001b[0m \u001b[38;5;220magent\u001b[0m \u001b[38;5;220mthe World Health Organization\u001b[0m \u001b[38;5;196msaid\u001b[0m \u001b[38;5;191mon\u001b[0m \u001b[38;5;220mWednesday\u001b[0m\u001b[38;5;196m.\u001b[0m "
      ]
     },
     "execution_count": 55,
     "metadata": {},
     "output_type": "execute_result"
    }
   ],
   "source": [
    "sent"
   ]
  },
  {
   "cell_type": "markdown",
   "metadata": {},
   "source": [
    "Why do we care about the aliases? To understand this let us see what is the\n",
    "actual class of, let us say, a verb component in our sentence."
   ]
  },
  {
   "cell_type": "code",
   "execution_count": 56,
   "metadata": {},
   "outputs": [
    {
     "data": {
      "text/plain": [
       "(segram.nlp.backend.rulebased.lang.en.grammar.components.RulebasedEnglishVerb,\n",
       " 'Verb')"
      ]
     },
     "execution_count": 56,
     "metadata": {},
     "output_type": "execute_result"
    }
   ],
   "source": [
    "verb = sent.verbs[0]  \n",
    "# use `.nouns`, `.descs` and `.preps` to access other types\n",
    "# all components are given by `.components` property\n",
    "type(verb), verb.alias"
   ]
  },
  {
   "cell_type": "markdown",
   "metadata": {},
   "source": [
    "Clearly, it is not a pure verb but a `RulebasedEnglishVerb`. This is an\n",
    "implementation detail, so we do not care. However, let us note that its\n",
    "alias is simply a string `\"Verb\"`.\n",
    "\n",
    "In principle, we could look for\n",
    "verbs using standard `isnstance` check, but this requires locating and importing\n",
    "base component classes appropriate for testing, so it would be nice to have\n",
    "an alternative way of testing whether a component belongs to a given type\n",
    "just by providing a string, which is easier to do on-the-fly. This is one\n",
    "of several reasons it is nice to have aliases."
   ]
  },
  {
   "cell_type": "code",
   "execution_count": 57,
   "metadata": {},
   "outputs": [
    {
     "data": {
      "text/plain": [
       "(\u001b[38;5;196mappeared\u001b[0m, to \u001b[38;5;196mshow\u001b[0m, \u001b[38;5;196msaid\u001b[0m)"
      ]
     },
     "execution_count": 57,
     "metadata": {},
     "output_type": "execute_result"
    }
   ],
   "source": [
    "# Finding verbs using `isinstance`\n",
    "from segram.grammar import Verb\n",
    "sent.components.filter(isinstance, Verb)"
   ]
  },
  {
   "cell_type": "code",
   "execution_count": 58,
   "metadata": {},
   "outputs": [
    {
     "data": {
      "text/plain": [
       "(\u001b[38;5;196mappeared\u001b[0m, to \u001b[38;5;196mshow\u001b[0m, \u001b[38;5;196msaid\u001b[0m)"
      ]
     },
     "execution_count": 58,
     "metadata": {},
     "output_type": "execute_result"
    }
   ],
   "source": [
    "# Using alias (importing `Verb` is not necessary)\n",
    "sent.components.filter(\"match\", alias=\"Verb\")"
   ]
  },
  {
   "cell_type": "markdown",
   "metadata": {},
   "source": [
    "Note that we used a custom framework for dealing with the rich data produced\n",
    "by `segram`. Here we filtered the list of components by matching their alias\n",
    "strings (stored under the `.alias` attribute) against the pattern `\"Verb\"`.\n",
    "The `.match` method we used is shared by all grammar element classes, so we\n",
    "can access its docstring directly from the sentence object we are working with."
   ]
  },
  {
   "cell_type": "code",
   "execution_count": 59,
   "metadata": {},
   "outputs": [
    {
     "name": "stdout",
     "output_type": "stream",
     "text": [
      "\u001b[0;31mSignature:\u001b[0m\n",
      "\u001b[0msent\u001b[0m\u001b[0;34m.\u001b[0m\u001b[0mmatch\u001b[0m\u001b[0;34m(\u001b[0m\u001b[0;34m\u001b[0m\n",
      "\u001b[0;34m\u001b[0m    \u001b[0m_pattern\u001b[0m\u001b[0;34m:\u001b[0m \u001b[0mstr\u001b[0m \u001b[0;34m|\u001b[0m \u001b[0;32mNone\u001b[0m \u001b[0;34m=\u001b[0m \u001b[0;32mNone\u001b[0m\u001b[0;34m,\u001b[0m\u001b[0;34m\u001b[0m\n",
      "\u001b[0;34m\u001b[0m    \u001b[0m_flag\u001b[0m\u001b[0;34m:\u001b[0m \u001b[0mre\u001b[0m\u001b[0;34m.\u001b[0m\u001b[0mRegexFlag\u001b[0m \u001b[0;34m=\u001b[0m \u001b[0mre\u001b[0m\u001b[0;34m.\u001b[0m\u001b[0mNOFLAG\u001b[0m\u001b[0;34m,\u001b[0m\u001b[0;34m\u001b[0m\n",
      "\u001b[0;34m\u001b[0m    \u001b[0m_ignore_missing\u001b[0m\u001b[0;34m:\u001b[0m \u001b[0mbool\u001b[0m \u001b[0;34m=\u001b[0m \u001b[0;32mFalse\u001b[0m\u001b[0;34m,\u001b[0m\u001b[0;34m\u001b[0m\n",
      "\u001b[0;34m\u001b[0m    \u001b[0;34m**\u001b[0m\u001b[0mkwds\u001b[0m\u001b[0;34m:\u001b[0m \u001b[0mUnion\u001b[0m\u001b[0;34m[\u001b[0m\u001b[0mAny\u001b[0m\u001b[0;34m,\u001b[0m \u001b[0mCallable\u001b[0m\u001b[0;34m[\u001b[0m\u001b[0;34m[\u001b[0m\u001b[0mAny\u001b[0m\u001b[0;34m]\u001b[0m\u001b[0;34m,\u001b[0m \u001b[0mbool\u001b[0m\u001b[0;34m]\u001b[0m\u001b[0;34m]\u001b[0m\u001b[0;34m,\u001b[0m\u001b[0;34m\u001b[0m\n",
      "\u001b[0;34m\u001b[0m\u001b[0;34m)\u001b[0m \u001b[0;34m->\u001b[0m \u001b[0mre\u001b[0m\u001b[0;34m.\u001b[0m\u001b[0mPattern\u001b[0m \u001b[0;34m|\u001b[0m \u001b[0;32mNone\u001b[0m\u001b[0;34m\u001b[0m\u001b[0;34m\u001b[0m\u001b[0m\n",
      "\u001b[0;31mDocstring:\u001b[0m\n",
      "Match element text against a regex pattern\n",
      "using :func:`re.search` function.\n",
      "\n",
      "Parameters\n",
      "----------\n",
      "_pattern\n",
      "    Regular expression pattern used for matching.\n",
      "    No matching is done when ``None``.\n",
      "_flag\n",
      "    Regex flag.\n",
      "_ignore_missing_fields\n",
      "    Should missing fields on ``self`` be ignored.\n",
      "**kwds\n",
      "    Other keyword arguments can be used for testing\n",
      "    values of different attributes on ``self``.\n",
      "    If callables are passed as values then they are\n",
      "    expected to be predicate functions returning\n",
      "    boolean values.\n",
      "\u001b[0;31mFile:\u001b[0m      ~/Coding/python/segram/segram/grammar/abc.py\n",
      "\u001b[0;31mType:\u001b[0m      method"
     ]
    }
   ],
   "source": [
    "sent.match?"
   ]
  },
  {
   "cell_type": "markdown",
   "metadata": {},
   "source": [
    "This easy filtering was possible because the `components` property \n",
    "(and this applies to all data properties and attributes of grammar classes)\n",
    "returns something that looks and behaves like a tuple, but it not exactly a\n",
    "vanilla tuple  but rather its subclass called `DataTuple`.\n",
    "\n",
    "<div class=\"alert aler-block alert-success\">\n",
    "Currently, <tt>segram</tt> implements <tt>Data*</tt> versions of <tt>tuple</tt>,\n",
    "<tt>list</tt>, <tt>dict</tt> as well as <tt>DataIterator</tt> that can be\n",
    "used to iterate over data provided in a memory-independent manner.\n",
    "</div>"
   ]
  },
  {
   "cell_type": "code",
   "execution_count": 60,
   "metadata": {},
   "outputs": [
    {
     "data": {
      "text/plain": [
       "(segram.datastruct.collections.DataTuple,\n",
       " (\u001b[38;5;220mVictims\u001b[0m,\n",
       "  \u001b[38;5;191mof\u001b[0m,\n",
       "  \u001b[38;5;219msuspected\u001b[0m,\n",
       "  \u001b[38;5;219mchemical\u001b[0m,\n",
       "  a \u001b[38;5;220mattack\u001b[0m,\n",
       "  \u001b[38;5;191min\u001b[0m,\n",
       "  \u001b[38;5;220mSyria\u001b[0m,\n",
       "  \u001b[38;5;196mappeared\u001b[0m,\n",
       "  to \u001b[38;5;196mshow\u001b[0m,\n",
       "  \u001b[38;5;220msymptoms\u001b[0m,\n",
       "  \u001b[38;5;219mconsistent\u001b[0m,\n",
       "  \u001b[38;5;191mwith\u001b[0m,\n",
       "  \u001b[38;5;220mreaction\u001b[0m,\n",
       "  \u001b[38;5;191mto\u001b[0m,\n",
       "  \u001b[38;5;220mnerve\u001b[0m,\n",
       "  a \u001b[38;5;220magent\u001b[0m,\n",
       "  \u001b[38;5;220mthe World Health Organization\u001b[0m,\n",
       "  \u001b[38;5;196msaid\u001b[0m,\n",
       "  \u001b[38;5;191mon\u001b[0m,\n",
       "  \u001b[38;5;220mWednesday\u001b[0m))"
      ]
     },
     "execution_count": 60,
     "metadata": {},
     "output_type": "execute_result"
    }
   ],
   "source": [
    "type(sent.components), sent.components"
   ]
  },
  {
   "cell_type": "markdown",
   "metadata": {},
   "source": [
    "`DataTuple` is just a plain old tuple with several additional methods for data\n",
    "filtering and processing, most importantly, `map`, `filter`, `sort`, `pipe`,\n",
    "`groupby`, `get` and `flat`. We will discuss them in more detail shortly, \n",
    "but first let us try to do something slightly more useful and count occurrences\n",
    "of distinct descriptions in the whole document based on their lemmas. \n",
    "To do so we will need a little help of the `Counter` class from the `collections` module of the Python standard library.\n",
    "\n",
    "Below we describe this relatively simple processing pipeline step-by-step\n",
    "in the comments in the code.\n",
    "\n",
    "1. Get sentence sequence using `doc.sents`\n",
    "2. For each sentence get the list of descriptions using `get(\"descs\")`.\n",
    "3. Flatten the resulting list of lists using `.flat`.\n",
    "4. Group resulting items by unique lemmas of their head tokens after\n",
    "   coreference resolution using `c.head.coref.lemma` executed for each item.\n",
    "5. Sort resulting dictionary of groups by group sizes."
   ]
  },
  {
   "cell_type": "code",
   "execution_count": 61,
   "metadata": {},
   "outputs": [
    {
     "data": {
      "text/plain": [
       "{'syrian': (\u001b[38;5;219mSyrian\u001b[0m,\n",
       "  \u001b[38;5;219mSyrian\u001b[0m,\n",
       "  \u001b[38;5;219mSyrian\u001b[0m,\n",
       "  \u001b[38;5;219mSyrian\u001b[0m),\n",
       " 'chemical': (\u001b[38;5;219mchemical\u001b[0m,\n",
       "  \u001b[38;5;219mchemical\u001b[0m,\n",
       "  \u001b[38;5;219mchemical\u001b[0m),\n",
       " 'consistent': (\u001b[38;5;219mconsistent\u001b[0m, \u001b[38;5;219mconsistent\u001b[0m),\n",
       " 'Syria': (\u001b[38;5;219mits\u001b[0m[Syria],),\n",
       " 'acute': (\u001b[38;5;219macute\u001b[0m,),\n",
       " 'additional': (\u001b[38;5;219madditional\u001b[0m,),\n",
       " 'also': (\u001b[38;5;219malso\u001b[0m,),\n",
       " 'always': (\u001b[38;5;219malways\u001b[0m,),\n",
       " 'apparent': (\u001b[38;5;219mapparent\u001b[0m,),\n",
       " 'external': (\u001b[38;5;219mexternal\u001b[0m,),\n",
       " 'international': (\u001b[38;5;219minternational\u001b[0m,),\n",
       " 'intolerable': (\u001b[38;5;219mintolerable\u001b[0m,),\n",
       " 'lethal': (\u001b[38;5;219mlethal\u001b[0m,),\n",
       " 'likely': (\u001b[38;5;219mlikely\u001b[0m,),\n",
       " 'loyal': (\u001b[38;5;219mloyal\u001b[0m,),\n",
       " 'multiple': (\u001b[38;5;219mmultiple\u001b[0m,),\n",
       " 'overwhelmed': (\u001b[38;5;219moverwhelmed\u001b[0m,),\n",
       " 'previously': (\u001b[38;5;219mpreviously\u001b[0m,),\n",
       " 'rapid': (\u001b[38;5;219mrapid\u001b[0m,),\n",
       " 'rebel': (\u001b[38;5;219mrebel\u001b[0m,),\n",
       " 'repeatedly': (\u001b[38;5;219mrepeatedly\u001b[0m,),\n",
       " 'respiratory': (\u001b[38;5;219mrespiratory\u001b[0m,),\n",
       " 'same': (\u001b[38;5;219msame\u001b[0m,),\n",
       " 'similar': (\u001b[38;5;219msimilar\u001b[0m,),\n",
       " 'such': (\u001b[38;5;219msuch\u001b[0m,),\n",
       " 'suspect': (\u001b[38;5;219msuspected\u001b[0m,),\n",
       " 'symptomatic': (\u001b[38;5;219msymptomatic\u001b[0m,),\n",
       " 'the World Health Organization': (\u001b[38;5;219mits\u001b[0m[the World Health Organization],)}"
      ]
     },
     "execution_count": 61,
     "metadata": {},
     "output_type": "execute_result"
    }
   ],
   "source": [
    "grouped = doc.sents \\\n",
    "    .get(\"descs\") \\\n",
    "    .flat \\\n",
    "    .groupby(lambda c: c.head.coref.lemma) \\\n",
    "    .sort(\"values\", len, reverse=True)\n",
    "grouped"
   ]
  },
  {
   "cell_type": "markdown",
   "metadata": {},
   "source": [
    "Let us pause for a while now and take a look at what was gathered under\n",
    "a key `\"the World Health Organization\"`, which neither an adjective nor an\n",
    "adverb, so perhaps it should not be present in our grouping dictionary?"
   ]
  },
  {
   "cell_type": "code",
   "execution_count": 62,
   "metadata": {},
   "outputs": [
    {
     "data": {
      "text/plain": [
       "(\u001b[38;5;219mits\u001b[0m[the World Health Organization],)"
      ]
     },
     "execution_count": 62,
     "metadata": {},
     "output_type": "execute_result"
    }
   ],
   "source": [
    "grouped[\"the World Health Organization\"]"
   ]
  },
  {
   "cell_type": "markdown",
   "metadata": {},
   "source": [
    "But note that the actual token is \"its\", and the WHO appears only after the\n",
    "coreference resolution (this is indicated by the value in the square brackets).\n",
    "Thanks to this we know what \"its\" is really referring to, and the data we gathered\n",
    "is consistent with what we asked for by specifying `.coref.lemma`."
   ]
  },
  {
   "cell_type": "markdown",
   "metadata": {},
   "source": [
    "### Phrases and phrase graphs\n",
    "\n",
    "Sentence are composed of components, but they can be also viewed from \n",
    "a more complex vantage point of phrases, which are higher-order grammatical\n",
    "(and more semantic) structures that form a nested hierarchy that takes the \n",
    "form of a directed acyclic graph (DAG) of a sentence.\n",
    "\n",
    "More concretely, a phrase consists of a head component and zero or more\n",
    "controlled phases (children) that are related to the parent by well-defined \n",
    "syntactic relationships such as being a subject of a verb. The phrasal graph \n",
    "of a sentence can be easily inspected using the `.graph` property\n",
    "(to make the graph structure more legible only phrase heads are printed).\n",
    "Annotations next to the nodes specify syntactic relationships between\n",
    "children and parents.\n",
    "\n",
    "See `segram.symbols.Dep?` for the list of all dependency symbols\n",
    "and their descriptions."
   ]
  },
  {
   "cell_type": "code",
   "execution_count": 63,
   "metadata": {},
   "outputs": [
    {
     "data": {
      "text/plain": [
       "\u001b[38;5;196msaid\u001b[0m\n",
       "    \u001b[38;5;196mappeared\u001b[0m [subcl]\n",
       "        \u001b[38;5;220mVictims\u001b[0m [subj]\n",
       "            \u001b[38;5;191mof\u001b[0m [prep]\n",
       "                a \u001b[38;5;220mattack\u001b[0m [pobj]\n",
       "                    \u001b[38;5;219msuspected\u001b[0m [desc]\n",
       "                    \u001b[38;5;219mchemical\u001b[0m [desc|nmod]\n",
       "                    \u001b[38;5;191min\u001b[0m [prep]\n",
       "                        \u001b[38;5;220mSyria\u001b[0m [pobj]\n",
       "        to \u001b[38;5;196mshow\u001b[0m [xcomp]\n",
       "            \u001b[38;5;220msymptoms\u001b[0m [dobj]\n",
       "                \u001b[38;5;219mconsistent\u001b[0m [desc]\n",
       "                    \u001b[38;5;191mwith\u001b[0m [prep]\n",
       "                        \u001b[38;5;220mreaction\u001b[0m [pobj]\n",
       "                            \u001b[38;5;191mto\u001b[0m [prep]\n",
       "                                a \u001b[38;5;220magent\u001b[0m [pobj]\n",
       "                                    \u001b[38;5;220mnerve\u001b[0m [nmod]\n",
       "    \u001b[38;5;220mthe World Health Organization\u001b[0m [subj]\n",
       "    \u001b[38;5;191mon\u001b[0m [prep]\n",
       "        \u001b[38;5;220mWednesday\u001b[0m [pobj]"
      ]
     },
     "execution_count": 63,
     "metadata": {},
     "output_type": "execute_result"
    }
   ],
   "source": [
    "sent.graph"
   ]
  },
  {
   "cell_type": "markdown",
   "metadata": {},
   "source": [
    "Under the hood, the graph is just a mapping."
   ]
  },
  {
   "cell_type": "code",
   "execution_count": 64,
   "metadata": {},
   "outputs": [
    {
     "data": {
      "text/plain": [
       "{\u001b[38;5;10mVictims\u001b[0m \u001b[38;5;191mof\u001b[0m a \u001b[38;5;219msuspected\u001b[0m \u001b[38;5;219mchemical\u001b[0m \u001b[38;5;6mattack\u001b[0m \u001b[38;5;191min\u001b[0m \u001b[38;5;6mSyria\u001b[0m: (\u001b[38;5;191mof\u001b[0m a \u001b[38;5;219msuspected\u001b[0m \u001b[38;5;219mchemical\u001b[0m \u001b[38;5;6mattack\u001b[0m \u001b[38;5;191min\u001b[0m \u001b[38;5;6mSyria\u001b[0m,),\n",
       " \u001b[38;5;191mof\u001b[0m a \u001b[38;5;219msuspected\u001b[0m \u001b[38;5;219mchemical\u001b[0m \u001b[38;5;6mattack\u001b[0m \u001b[38;5;191min\u001b[0m \u001b[38;5;6mSyria\u001b[0m: (a \u001b[38;5;219msuspected\u001b[0m \u001b[38;5;219mchemical\u001b[0m \u001b[38;5;6mattack\u001b[0m \u001b[38;5;191min\u001b[0m \u001b[38;5;6mSyria\u001b[0m,),\n",
       " \u001b[38;5;219msuspected\u001b[0m: (),\n",
       " \u001b[38;5;219mchemical\u001b[0m: (),\n",
       " a \u001b[38;5;219msuspected\u001b[0m \u001b[38;5;219mchemical\u001b[0m \u001b[38;5;6mattack\u001b[0m \u001b[38;5;191min\u001b[0m \u001b[38;5;6mSyria\u001b[0m: (\u001b[38;5;219msuspected\u001b[0m,\n",
       "  \u001b[38;5;219mchemical\u001b[0m,\n",
       "  \u001b[38;5;191min\u001b[0m \u001b[38;5;6mSyria\u001b[0m),\n",
       " \u001b[38;5;191min\u001b[0m \u001b[38;5;6mSyria\u001b[0m: (\u001b[38;5;6mSyria\u001b[0m,),\n",
       " \u001b[38;5;6mSyria\u001b[0m: (),\n",
       " \u001b[38;5;10mVictims\u001b[0m \u001b[38;5;191mof\u001b[0m a \u001b[38;5;219msuspected\u001b[0m \u001b[38;5;219mchemical\u001b[0m \u001b[38;5;6mattack\u001b[0m \u001b[38;5;191min\u001b[0m \u001b[38;5;6mSyria\u001b[0m \u001b[38;5;196mappeared\u001b[0m \u001b[38;5;245mto\u001b[0m \u001b[38;5;245mshow\u001b[0m \u001b[38;5;245msymptoms\u001b[0m \u001b[38;5;245mconsistent\u001b[0m \u001b[38;5;245mwith\u001b[0m \u001b[38;5;245mreaction\u001b[0m \u001b[38;5;245mto\u001b[0m \u001b[38;5;245ma\u001b[0m \u001b[38;5;245mnerve\u001b[0m \u001b[38;5;245magent\u001b[0m: (\u001b[38;5;10mVictims\u001b[0m \u001b[38;5;191mof\u001b[0m a \u001b[38;5;219msuspected\u001b[0m \u001b[38;5;219mchemical\u001b[0m \u001b[38;5;6mattack\u001b[0m \u001b[38;5;191min\u001b[0m \u001b[38;5;6mSyria\u001b[0m,\n",
       "  to \u001b[38;5;196mshow\u001b[0m \u001b[38;5;12msymptoms\u001b[0m \u001b[38;5;219mconsistent\u001b[0m \u001b[38;5;191mwith\u001b[0m \u001b[38;5;6mreaction\u001b[0m \u001b[38;5;191mto\u001b[0m a \u001b[38;5;220mnerve\u001b[0m \u001b[38;5;6magent\u001b[0m),\n",
       " to \u001b[38;5;196mshow\u001b[0m \u001b[38;5;12msymptoms\u001b[0m \u001b[38;5;219mconsistent\u001b[0m \u001b[38;5;191mwith\u001b[0m \u001b[38;5;6mreaction\u001b[0m \u001b[38;5;191mto\u001b[0m a \u001b[38;5;220mnerve\u001b[0m \u001b[38;5;6magent\u001b[0m: (\u001b[38;5;12msymptoms\u001b[0m \u001b[38;5;219mconsistent\u001b[0m \u001b[38;5;191mwith\u001b[0m \u001b[38;5;6mreaction\u001b[0m \u001b[38;5;191mto\u001b[0m a \u001b[38;5;220mnerve\u001b[0m \u001b[38;5;6magent\u001b[0m,),\n",
       " \u001b[38;5;12msymptoms\u001b[0m \u001b[38;5;219mconsistent\u001b[0m \u001b[38;5;191mwith\u001b[0m \u001b[38;5;6mreaction\u001b[0m \u001b[38;5;191mto\u001b[0m a \u001b[38;5;220mnerve\u001b[0m \u001b[38;5;6magent\u001b[0m: (\u001b[38;5;219mconsistent\u001b[0m \u001b[38;5;191mwith\u001b[0m \u001b[38;5;6mreaction\u001b[0m \u001b[38;5;191mto\u001b[0m a \u001b[38;5;220mnerve\u001b[0m \u001b[38;5;6magent\u001b[0m,),\n",
       " \u001b[38;5;219mconsistent\u001b[0m \u001b[38;5;191mwith\u001b[0m \u001b[38;5;6mreaction\u001b[0m \u001b[38;5;191mto\u001b[0m a \u001b[38;5;220mnerve\u001b[0m \u001b[38;5;6magent\u001b[0m: (\u001b[38;5;191mwith\u001b[0m \u001b[38;5;6mreaction\u001b[0m \u001b[38;5;191mto\u001b[0m a \u001b[38;5;220mnerve\u001b[0m \u001b[38;5;6magent\u001b[0m,),\n",
       " \u001b[38;5;191mwith\u001b[0m \u001b[38;5;6mreaction\u001b[0m \u001b[38;5;191mto\u001b[0m a \u001b[38;5;220mnerve\u001b[0m \u001b[38;5;6magent\u001b[0m: (\u001b[38;5;6mreaction\u001b[0m \u001b[38;5;191mto\u001b[0m a \u001b[38;5;220mnerve\u001b[0m \u001b[38;5;6magent\u001b[0m,),\n",
       " \u001b[38;5;6mreaction\u001b[0m \u001b[38;5;191mto\u001b[0m a \u001b[38;5;220mnerve\u001b[0m \u001b[38;5;6magent\u001b[0m: (\u001b[38;5;191mto\u001b[0m a \u001b[38;5;220mnerve\u001b[0m \u001b[38;5;6magent\u001b[0m,),\n",
       " \u001b[38;5;191mto\u001b[0m a \u001b[38;5;220mnerve\u001b[0m \u001b[38;5;6magent\u001b[0m: (a \u001b[38;5;220mnerve\u001b[0m \u001b[38;5;6magent\u001b[0m,),\n",
       " \u001b[38;5;220mnerve\u001b[0m: (),\n",
       " a \u001b[38;5;220mnerve\u001b[0m \u001b[38;5;6magent\u001b[0m: (\u001b[38;5;220mnerve\u001b[0m,),\n",
       " \u001b[38;5;10mthe World Health Organization\u001b[0m: (),\n",
       " \u001b[38;5;245mVictims\u001b[0m \u001b[38;5;245mof\u001b[0m \u001b[38;5;245ma\u001b[0m \u001b[38;5;245msuspected\u001b[0m \u001b[38;5;245mchemical\u001b[0m \u001b[38;5;245mattack\u001b[0m \u001b[38;5;245min\u001b[0m \u001b[38;5;245mSyria\u001b[0m \u001b[38;5;245mappeared\u001b[0m \u001b[38;5;245mto\u001b[0m \u001b[38;5;245mshow\u001b[0m \u001b[38;5;245msymptoms\u001b[0m \u001b[38;5;245mconsistent\u001b[0m \u001b[38;5;245mwith\u001b[0m \u001b[38;5;245mreaction\u001b[0m \u001b[38;5;245mto\u001b[0m \u001b[38;5;245ma\u001b[0m \u001b[38;5;245mnerve\u001b[0m \u001b[38;5;245magent\u001b[0m \u001b[38;5;10mthe World Health Organization\u001b[0m \u001b[38;5;196msaid\u001b[0m \u001b[38;5;191mon\u001b[0m \u001b[38;5;6mWednesday\u001b[0m: (\u001b[38;5;10mVictims\u001b[0m \u001b[38;5;191mof\u001b[0m a \u001b[38;5;219msuspected\u001b[0m \u001b[38;5;219mchemical\u001b[0m \u001b[38;5;6mattack\u001b[0m \u001b[38;5;191min\u001b[0m \u001b[38;5;6mSyria\u001b[0m \u001b[38;5;196mappeared\u001b[0m \u001b[38;5;245mto\u001b[0m \u001b[38;5;245mshow\u001b[0m \u001b[38;5;245msymptoms\u001b[0m \u001b[38;5;245mconsistent\u001b[0m \u001b[38;5;245mwith\u001b[0m \u001b[38;5;245mreaction\u001b[0m \u001b[38;5;245mto\u001b[0m \u001b[38;5;245ma\u001b[0m \u001b[38;5;245mnerve\u001b[0m \u001b[38;5;245magent\u001b[0m,\n",
       "  \u001b[38;5;10mthe World Health Organization\u001b[0m,\n",
       "  \u001b[38;5;191mon\u001b[0m \u001b[38;5;6mWednesday\u001b[0m),\n",
       " \u001b[38;5;191mon\u001b[0m \u001b[38;5;6mWednesday\u001b[0m: (\u001b[38;5;6mWednesday\u001b[0m,),\n",
       " \u001b[38;5;6mWednesday\u001b[0m: ()}"
      ]
     },
     "execution_count": 64,
     "metadata": {},
     "output_type": "execute_result"
    }
   ],
   "source": [
    "dict(sent.graph)"
   ]
  },
  {
   "cell_type": "markdown",
   "metadata": {},
   "source": [
    "<div class=\"alert alert-block alert-success\">\n",
    "Note that the fact that phrase graphs store phrase objects as keys means\n",
    "that phrases are <strong>hashable</strong>. This is true for all grammar\n",
    "element classes (components, phrases, sentences and documents).\n",
    "Components, phrases and sentences are also sortable as long as they belong\n",
    "to the same document.\n",
    "</div>"
   ]
  },
  {
   "cell_type": "markdown",
   "metadata": {},
   "source": [
    "By viewing the phrase graph as a simple `dict` we now see how phrases are\n",
    "represented when printed to the console.\n",
    "\n",
    "* The colored part correspond to the phrase head and its non-clause children.\n",
    "* Grayed-out part are dependent clauses, or child phrases with their own verbs.\n",
    "* Colors are used to mark different types of children such as subjects.\n",
    "\n",
    "<div class=\"alert alert-block alert-success\">\n",
    "Color theme can be configured by modifying global settings\n",
    "stored in <tt>segram.settings</tt>.\n",
    "</div>\n",
    "\n",
    "Crucially, thanks to the fact that phrasal graphs are DAGs by construction,\n",
    "it is always guaranteed that a starting from a given phrase and traversing\n",
    "the graph downwards (through the **subdag**) or upward (through the **supdag**)\n",
    "will end at some point as there are no cycles.\n",
    "\n",
    "* Phrases in a sentence can be accessed with `sent.phrases`.\n",
    "* Parents of a phrase can be accessed using `phrase.parents`.\n",
    "* Children can be accessed using `phrase.children`.\n",
    "* Subdag can be accessed using `phrase.subdag`.\n",
    "* Supdag can be accessed using `phrase.supdag`."
   ]
  },
  {
   "cell_type": "markdown",
   "metadata": {},
   "source": [
    "To illustrate the power of thinking in terms of phrases below we design\n",
    "a relatively simple query finding all sentences with a top root phrase,\n",
    "which describe a statement made by the World Health Organization. Thus,\n",
    "we are looking for phrases with subject being WHO and verb being \"say\".\n",
    "So what we do below is:\n",
    "\n",
    "1. Iterate over sentences in our document.\n",
    "2. Extract root phrases (`sent.proots`) of sentences and flatten the resulting \n",
    "   list of lists.\n",
    "3. Select only those which are verb phrases (`alias==\"VP\"`), have a subject\n",
    "   with text matching the regex pattern finding WHO, and a verb of which\n",
    "   head token lemma is \"say\".\n",
    "4. Finally, we take back the unique whole sentences with the matching phrases."
   ]
  },
  {
   "cell_type": "code",
   "execution_count": 65,
   "metadata": {},
   "outputs": [
    {
     "name": "stdout",
     "output_type": "stream",
     "text": [
      "\u001b[38;5;220mVictims\u001b[0m \u001b[38;5;191mof\u001b[0m \u001b[38;5;220ma\u001b[0m \u001b[38;5;219msuspected\u001b[0m \u001b[38;5;219mchemical\u001b[0m \u001b[38;5;220mattack\u001b[0m \u001b[38;5;191min\u001b[0m \u001b[38;5;220mSyria\u001b[0m \u001b[38;5;196mappeared\u001b[0m \u001b[38;5;196mto\u001b[0m \u001b[38;5;196mshow\u001b[0m \u001b[38;5;220msymptoms\u001b[0m \u001b[38;5;219mconsistent\u001b[0m \u001b[38;5;191mwith\u001b[0m \u001b[38;5;220mreaction\u001b[0m \u001b[38;5;191mto\u001b[0m \u001b[38;5;220ma\u001b[0m \u001b[38;5;220mnerve\u001b[0m \u001b[38;5;220magent\u001b[0m \u001b[38;5;220mthe World Health Organization\u001b[0m \u001b[38;5;196msaid\u001b[0m \u001b[38;5;191mon\u001b[0m \u001b[38;5;220mWednesday\u001b[0m\u001b[38;5;196m.\u001b[0m \n",
      "\u001b[38;5;196m\"\u001b[0m\u001b[38;5;220mSome\u001b[0m \u001b[38;5;220mcases\u001b[0m \u001b[38;5;196mappear\u001b[0m \u001b[38;5;196mto\u001b[0m \u001b[38;5;196mshow\u001b[0m \u001b[38;5;219madditional\u001b[0m \u001b[38;5;220msigns\u001b[0m \u001b[38;5;219mconsistent\u001b[0m \u001b[38;5;191mwith\u001b[0m \u001b[38;5;220mexposure\u001b[0m \u001b[38;5;191mto\u001b[0m \u001b[38;5;220morganophosphorus\u001b[0m \u001b[38;5;220mchemicals\u001b[0m \u001b[38;5;220ma\u001b[0m \u001b[38;5;220mcategory\u001b[0m \u001b[38;5;191mof\u001b[0m \u001b[38;5;220mchemicals\u001b[0m \u001b[38;5;220mthat\u001b[0m \u001b[38;5;196mincludes\u001b[0m \u001b[38;5;220mnerve\u001b[0m \u001b[38;5;220magents\u001b[0m\u001b[38;5;196m\"\u001b[0m \u001b[38;5;220mWHO\u001b[0m \u001b[38;5;196msaid\u001b[0m \u001b[38;5;191min\u001b[0m \u001b[38;5;220ma\u001b[0m \u001b[38;5;220mstatement\u001b[0m \u001b[38;5;196mputting\u001b[0m \u001b[38;5;220mthe\u001b[0m \u001b[38;5;220mdeath\u001b[0m \u001b[38;5;220mtoll\u001b[0m \u001b[38;5;191mat\u001b[0m \u001b[38;5;220mat least 70\u001b[0m\u001b[38;5;196m.\u001b[0m \n",
      "\u001b[38;5;220mThe\u001b[0m \u001b[38;5;220mWHO\u001b[0m \u001b[38;5;196msaid\u001b[0m \u001b[38;5;220mit\u001b[0m \u001b[38;5;196mwas\u001b[0m \u001b[38;5;219mlikely\u001b[0m \u001b[38;5;196mthat\u001b[0m \u001b[38;5;220msome\u001b[0m \u001b[38;5;220mkind\u001b[0m \u001b[38;5;191mof\u001b[0m \u001b[38;5;220mchemical\u001b[0m \u001b[38;5;196mwas\u001b[0m \u001b[38;5;196mused\u001b[0m \u001b[38;5;191min\u001b[0m \u001b[38;5;220mthe\u001b[0m \u001b[38;5;220mattack\u001b[0m \u001b[38;5;196mbecause\u001b[0m \u001b[38;5;220msufferers\u001b[0m \u001b[38;5;196mhad\u001b[0m \u001b[38;5;220mno\u001b[0m \u001b[38;5;219mapparent\u001b[0m \u001b[38;5;219mexternal\u001b[0m \u001b[38;5;220minjuries\u001b[0m \u001b[38;5;196mand\u001b[0m \u001b[38;5;196mdied\u001b[0m \u001b[38;5;191mfrom\u001b[0m \u001b[38;5;220ma\u001b[0m \u001b[38;5;219mrapid\u001b[0m \u001b[38;5;220monset\u001b[0m \u001b[38;5;191mof\u001b[0m \u001b[38;5;219msimilar\u001b[0m \u001b[38;5;220msymptoms\u001b[0m \u001b[38;5;191mincluding\u001b[0m \u001b[38;5;219macute\u001b[0m \u001b[38;5;219mrespiratory\u001b[0m \u001b[38;5;220mdistress\u001b[0m\u001b[38;5;196m.\u001b[0m \n",
      "\u001b[38;5;220mIt\u001b[0m[the World Health Organization] \u001b[38;5;196msaid\u001b[0m \u001b[38;5;219mits\u001b[0m[the World Health Organization] \u001b[38;5;220mexperts\u001b[0m \u001b[38;5;191min\u001b[0m \u001b[38;5;220mTurkey\u001b[0m \u001b[38;5;196mwere\u001b[0m \u001b[38;5;196mgiving\u001b[0m \u001b[38;5;220mguidance\u001b[0m \u001b[38;5;191mto\u001b[0m \u001b[38;5;219moverwhelmed\u001b[0m \u001b[38;5;220mhealth\u001b[0m \u001b[38;5;220mworkers\u001b[0m \u001b[38;5;191min\u001b[0m \u001b[38;5;220mIdlib\u001b[0m \u001b[38;5;191mon\u001b[0m \u001b[38;5;220mthe\u001b[0m \u001b[38;5;220mdiagnosis\u001b[0m \u001b[38;5;220mand\u001b[0m \u001b[38;5;220mtreatment\u001b[0m \u001b[38;5;191mof\u001b[0m \u001b[38;5;220mpatients\u001b[0m \u001b[38;5;220mand\u001b[0m \u001b[38;5;220mmedicines\u001b[0m \u001b[38;5;219msuch\u001b[0m \u001b[38;5;191mas\u001b[0m \u001b[38;5;220mAtropine\u001b[0m \u001b[38;5;220man\u001b[0m \u001b[38;5;220mantidote\u001b[0m \u001b[38;5;191mfor\u001b[0m \u001b[38;5;220msome\u001b[0m \u001b[38;5;220mtypes\u001b[0m \u001b[38;5;191mof\u001b[0m \u001b[38;5;219mchemical\u001b[0m \u001b[38;5;220mexposure\u001b[0m \u001b[38;5;220mand\u001b[0m \u001b[38;5;220msteroids\u001b[0m \u001b[38;5;191mfor\u001b[0m \u001b[38;5;219msymptomatic\u001b[0m \u001b[38;5;220mtreatment\u001b[0m \u001b[38;5;196mhad\u001b[0m \u001b[38;5;196mbeen\u001b[0m \u001b[38;5;196msent\u001b[0m\u001b[38;5;196m.\u001b[0m \n",
      "\u001b[38;5;196m\"\u001b[0m\u001b[38;5;220mThese\u001b[0m \u001b[38;5;220mtypes\u001b[0m \u001b[38;5;191mof\u001b[0m \u001b[38;5;220mweapons\u001b[0m \u001b[38;5;196mare\u001b[0m \u001b[38;5;196mbanned\u001b[0m \u001b[38;5;191mby\u001b[0m \u001b[38;5;219minternational\u001b[0m \u001b[38;5;220mlaw\u001b[0m \u001b[38;5;196mbecause\u001b[0m \u001b[38;5;220mthey\u001b[0m[types] \u001b[38;5;196mrepresent\u001b[0m \u001b[38;5;220man\u001b[0m \u001b[38;5;219mintolerable\u001b[0m \u001b[38;5;220mbarbarism\u001b[0m\u001b[38;5;196m\"\u001b[0m \u001b[38;5;220mPeter Salama\u001b[0m \u001b[38;5;220mExecutive\u001b[0m \u001b[38;5;220mDirector\u001b[0m \u001b[38;5;191mof\u001b[0m \u001b[38;5;220mthe WHO Health Emergencies Programme\u001b[0m \u001b[38;5;196msaid\u001b[0m \u001b[38;5;191min\u001b[0m \u001b[38;5;220mthe\u001b[0m \u001b[38;5;220mWHO\u001b[0m \u001b[38;5;220mstatement\u001b[0m\u001b[38;5;196m.\u001b[0m\n"
     ]
    }
   ],
   "source": [
    "who_sents = doc.sents \\\n",
    "    .get(\"proots\").flat \\\n",
    "    .filter(\"match\", **{\n",
    "        \"alias\": \"VP\",\n",
    "        \"subj\": lambda x: \\\n",
    "            x.filter(\"match\", \"World Health Organization|WHO\").any(),\n",
    "        \"verb\": lambda x:\n",
    "            x.get(\"head\").filter(\"match\", lemma=\"say\").any()\n",
    "    }) \\\n",
    "    .get(\"sent\") \\\n",
    "    .unique() \\\n",
    "\n",
    "for sent in who_sents:\n",
    "    print(sent)"
   ]
  },
  {
   "cell_type": "markdown",
   "metadata": {},
   "source": [
    "We may use our result now to print the whole document nicely so only the matching\n",
    "phrases are highlighted with colors."
   ]
  },
  {
   "cell_type": "code",
   "execution_count": 66,
   "metadata": {},
   "outputs": [
    {
     "name": "stdout",
     "output_type": "stream",
     "text": [
      "\u001b[38;5;220mVictims\u001b[0m \u001b[38;5;191mof\u001b[0m \u001b[38;5;220ma\u001b[0m \u001b[38;5;219msuspected\u001b[0m \u001b[38;5;219mchemical\u001b[0m \u001b[38;5;220mattack\u001b[0m \u001b[38;5;191min\u001b[0m \u001b[38;5;220mSyria\u001b[0m \u001b[38;5;196mappeared\u001b[0m \u001b[38;5;196mto\u001b[0m \u001b[38;5;196mshow\u001b[0m \u001b[38;5;220msymptoms\u001b[0m \u001b[38;5;219mconsistent\u001b[0m \u001b[38;5;191mwith\u001b[0m \u001b[38;5;220mreaction\u001b[0m \u001b[38;5;191mto\u001b[0m \u001b[38;5;220ma\u001b[0m \u001b[38;5;220mnerve\u001b[0m \u001b[38;5;220magent\u001b[0m \u001b[38;5;220mthe World Health Organization\u001b[0m \u001b[38;5;196msaid\u001b[0m \u001b[38;5;191mon\u001b[0m \u001b[38;5;220mWednesday\u001b[0m\u001b[38;5;196m.\u001b[0m \n",
      "\u001b[38;5;196m\"\u001b[0m\u001b[38;5;220mSome\u001b[0m \u001b[38;5;220mcases\u001b[0m \u001b[38;5;196mappear\u001b[0m \u001b[38;5;196mto\u001b[0m \u001b[38;5;196mshow\u001b[0m \u001b[38;5;219madditional\u001b[0m \u001b[38;5;220msigns\u001b[0m \u001b[38;5;219mconsistent\u001b[0m \u001b[38;5;191mwith\u001b[0m \u001b[38;5;220mexposure\u001b[0m \u001b[38;5;191mto\u001b[0m \u001b[38;5;220morganophosphorus\u001b[0m \u001b[38;5;220mchemicals\u001b[0m \u001b[38;5;220ma\u001b[0m \u001b[38;5;220mcategory\u001b[0m \u001b[38;5;191mof\u001b[0m \u001b[38;5;220mchemicals\u001b[0m \u001b[38;5;220mthat\u001b[0m \u001b[38;5;196mincludes\u001b[0m \u001b[38;5;220mnerve\u001b[0m \u001b[38;5;220magents\u001b[0m\u001b[38;5;196m\"\u001b[0m \u001b[38;5;220mWHO\u001b[0m \u001b[38;5;196msaid\u001b[0m \u001b[38;5;191min\u001b[0m \u001b[38;5;220ma\u001b[0m \u001b[38;5;220mstatement\u001b[0m \u001b[38;5;196mputting\u001b[0m \u001b[38;5;220mthe\u001b[0m \u001b[38;5;220mdeath\u001b[0m \u001b[38;5;220mtoll\u001b[0m \u001b[38;5;191mat\u001b[0m \u001b[38;5;220mat least 70\u001b[0m\u001b[38;5;196m.\u001b[0m \n",
      "The United States has said the deaths were caused by sarin nerve gas dropped by Syrian aircraft. \n",
      "Russia has said it[Russia] believes poison gas had leaked from a rebel chemical weapons depot struck by Syrian bombs. \n",
      "Sarin is an organophosporus compound and a nerve agent. \n",
      "Chlorine and mustard gas which are also believed to have been used in the past in Syria are not. \n",
      "A Russian Defence Ministry spokesman did not say what agent was used in the attack but said the rebels had used the same chemical weapons in Aleppo last year. \n",
      "\u001b[38;5;220mThe\u001b[0m \u001b[38;5;220mWHO\u001b[0m \u001b[38;5;196msaid\u001b[0m \u001b[38;5;220mit\u001b[0m \u001b[38;5;196mwas\u001b[0m \u001b[38;5;219mlikely\u001b[0m \u001b[38;5;196mthat\u001b[0m \u001b[38;5;220msome\u001b[0m \u001b[38;5;220mkind\u001b[0m \u001b[38;5;191mof\u001b[0m \u001b[38;5;220mchemical\u001b[0m \u001b[38;5;196mwas\u001b[0m \u001b[38;5;196mused\u001b[0m \u001b[38;5;191min\u001b[0m \u001b[38;5;220mthe\u001b[0m \u001b[38;5;220mattack\u001b[0m \u001b[38;5;196mbecause\u001b[0m \u001b[38;5;220msufferers\u001b[0m \u001b[38;5;196mhad\u001b[0m \u001b[38;5;220mno\u001b[0m \u001b[38;5;219mapparent\u001b[0m \u001b[38;5;219mexternal\u001b[0m \u001b[38;5;220minjuries\u001b[0m \u001b[38;5;196mand\u001b[0m \u001b[38;5;196mdied\u001b[0m \u001b[38;5;191mfrom\u001b[0m \u001b[38;5;220ma\u001b[0m \u001b[38;5;219mrapid\u001b[0m \u001b[38;5;220monset\u001b[0m \u001b[38;5;191mof\u001b[0m \u001b[38;5;219msimilar\u001b[0m \u001b[38;5;220msymptoms\u001b[0m \u001b[38;5;191mincluding\u001b[0m \u001b[38;5;219macute\u001b[0m \u001b[38;5;219mrespiratory\u001b[0m \u001b[38;5;220mdistress\u001b[0m\u001b[38;5;196m.\u001b[0m \n",
      "\u001b[38;5;220mIt\u001b[0m[the World Health Organization] \u001b[38;5;196msaid\u001b[0m \u001b[38;5;219mits\u001b[0m[the World Health Organization] \u001b[38;5;220mexperts\u001b[0m \u001b[38;5;191min\u001b[0m \u001b[38;5;220mTurkey\u001b[0m \u001b[38;5;196mwere\u001b[0m \u001b[38;5;196mgiving\u001b[0m \u001b[38;5;220mguidance\u001b[0m \u001b[38;5;191mto\u001b[0m \u001b[38;5;219moverwhelmed\u001b[0m \u001b[38;5;220mhealth\u001b[0m \u001b[38;5;220mworkers\u001b[0m \u001b[38;5;191min\u001b[0m \u001b[38;5;220mIdlib\u001b[0m \u001b[38;5;191mon\u001b[0m \u001b[38;5;220mthe\u001b[0m \u001b[38;5;220mdiagnosis\u001b[0m \u001b[38;5;220mand\u001b[0m \u001b[38;5;220mtreatment\u001b[0m \u001b[38;5;191mof\u001b[0m \u001b[38;5;220mpatients\u001b[0m \u001b[38;5;220mand\u001b[0m \u001b[38;5;220mmedicines\u001b[0m \u001b[38;5;219msuch\u001b[0m \u001b[38;5;191mas\u001b[0m \u001b[38;5;220mAtropine\u001b[0m \u001b[38;5;220man\u001b[0m \u001b[38;5;220mantidote\u001b[0m \u001b[38;5;191mfor\u001b[0m \u001b[38;5;220msome\u001b[0m \u001b[38;5;220mtypes\u001b[0m \u001b[38;5;191mof\u001b[0m \u001b[38;5;219mchemical\u001b[0m \u001b[38;5;220mexposure\u001b[0m \u001b[38;5;220mand\u001b[0m \u001b[38;5;220msteroids\u001b[0m \u001b[38;5;191mfor\u001b[0m \u001b[38;5;219msymptomatic\u001b[0m \u001b[38;5;220mtreatment\u001b[0m \u001b[38;5;196mhad\u001b[0m \u001b[38;5;196mbeen\u001b[0m \u001b[38;5;196msent\u001b[0m\u001b[38;5;196m.\u001b[0m \n",
      "A U.N. Commission of Inquiry into human rights in Syria has previously said forces loyal to Syrian President Bashar al-Assad have used lethal chlorine gas on multiple occasions. \n",
      "Hundreds of civilians died in a sarin gas attack in Ghouta on the outskirts of Damascus in August 2013. \n",
      "Assads government has always denied responsibility for that attack. \n",
      "Syria agreed to destroy its[Syria] chemical weapons in 2013 under a deal brokered by Moscow and Washington. \n",
      "But Russia a Syrian ally and China have repeatedly vetoed any United Nations move to sanction Assad or refer the situation in Syria to the International Criminal Court. \n",
      "\u001b[38;5;196m\"\u001b[0m\u001b[38;5;220mThese\u001b[0m \u001b[38;5;220mtypes\u001b[0m \u001b[38;5;191mof\u001b[0m \u001b[38;5;220mweapons\u001b[0m \u001b[38;5;196mare\u001b[0m \u001b[38;5;196mbanned\u001b[0m \u001b[38;5;191mby\u001b[0m \u001b[38;5;219minternational\u001b[0m \u001b[38;5;220mlaw\u001b[0m \u001b[38;5;196mbecause\u001b[0m \u001b[38;5;220mthey\u001b[0m[types] \u001b[38;5;196mrepresent\u001b[0m \u001b[38;5;220man\u001b[0m \u001b[38;5;219mintolerable\u001b[0m \u001b[38;5;220mbarbarism\u001b[0m\u001b[38;5;196m\"\u001b[0m \u001b[38;5;220mPeter Salama\u001b[0m \u001b[38;5;220mExecutive\u001b[0m \u001b[38;5;220mDirector\u001b[0m \u001b[38;5;191mof\u001b[0m \u001b[38;5;220mthe WHO Health Emergencies Programme\u001b[0m \u001b[38;5;196msaid\u001b[0m \u001b[38;5;191min\u001b[0m \u001b[38;5;220mthe\u001b[0m \u001b[38;5;220mWHO\u001b[0m \u001b[38;5;220mstatement\u001b[0m\u001b[38;5;196m.\u001b[0m\n"
     ]
    }
   ],
   "source": [
    "for sent in doc.sents:\n",
    "    print(sent.to_str(color=sent in who_sents))"
   ]
  },
  {
   "cell_type": "markdown",
   "metadata": {},
   "source": [
    "### Conjuncts\n",
    "\n",
    "Why did we talk about root phrases instead of a single root phrase corresponding\n",
    "to the main clause of the entire sentence? We did, because one of the things\n",
    "that `segram` does in order to make semantic analysis based on grammatical\n",
    "structure more feasible is redesigning the syntactic tree in order to reveal\n",
    "the true syntactic-semantic roles of conjuncts, which are typically represented\n",
    "as children of the leading token in a group formed by a coordinating conjunction.\n",
    "And this is why in `segram` we have a phrase graph (DAG) instead of a tree.\n",
    "After promoting conjuncts higher in the hierarchy we have to relax the structural\n",
    "constraints imposed on our representation of syntactic structure.\n",
    "\n",
    "To better see this let us consider the following sentence."
   ]
  },
  {
   "cell_type": "code",
   "execution_count": 50,
   "metadata": {},
   "outputs": [
    {
     "data": {
      "text/plain": [
       "\u001b[38;5;219mRecent\u001b[0m \u001b[38;5;220mbreakthroughs\u001b[0m \u001b[38;5;191min\u001b[0m \u001b[38;5;219martificial\u001b[0m \u001b[38;5;220minteligence\u001b[0m \u001b[38;5;196mmay\u001b[0m \u001b[38;5;196mreshape\u001b[0m \u001b[38;5;220mthe\u001b[0m \u001b[38;5;220msociety\u001b[0m \u001b[38;5;196mand\u001b[0m \u001b[38;5;219msignificantly\u001b[0m \u001b[38;5;196mimpact\u001b[0m \u001b[38;5;220mthe\u001b[0m \u001b[38;5;219meconomic\u001b[0m \u001b[38;5;220msystem\u001b[0m\u001b[38;5;196m.\u001b[0m"
      ]
     },
     "execution_count": 50,
     "metadata": {},
     "output_type": "execute_result"
    }
   ],
   "source": [
    "sent = nlp(\n",
    "    \"Recent breakthroughs in artificial inteligence \"\n",
    "    \"may reshape the society and significantly impact the economic system.\"\n",
    ")._.segram.sents[0]\n",
    "sent"
   ]
  },
  {
   "cell_type": "markdown",
   "metadata": {},
   "source": [
    "By inspecting the phrase DAG we can easily see that this sentence has two\n",
    "root phrases (phrases with no parents)."
   ]
  },
  {
   "cell_type": "code",
   "execution_count": 47,
   "metadata": {},
   "outputs": [
    {
     "data": {
      "text/plain": [
       "may \u001b[38;5;196mreshape\u001b[0m\n",
       "    \u001b[38;5;220mbreakthroughs\u001b[0m [subj]\n",
       "        \u001b[38;5;219mRecent\u001b[0m [desc]\n",
       "        \u001b[38;5;191min\u001b[0m [prep]\n",
       "            \u001b[38;5;220minteligence\u001b[0m [pobj]\n",
       "                \u001b[38;5;219martificial\u001b[0m [desc]\n",
       "    the \u001b[38;5;220msociety\u001b[0m [dobj]\n",
       "\u001b[38;5;196mimpact\u001b[0m\n",
       "    \u001b[38;5;220mbreakthroughs\u001b[0m [subj]\n",
       "        \u001b[38;5;219mRecent\u001b[0m [desc]\n",
       "        \u001b[38;5;191min\u001b[0m [prep]\n",
       "            \u001b[38;5;220minteligence\u001b[0m [pobj]\n",
       "                \u001b[38;5;219martificial\u001b[0m [desc]\n",
       "    \u001b[38;5;219msignificantly\u001b[0m [desc]\n",
       "    the \u001b[38;5;220msystem\u001b[0m [dobj]\n",
       "        \u001b[38;5;219meconomic\u001b[0m [desc]"
      ]
     },
     "execution_count": 47,
     "metadata": {},
     "output_type": "execute_result"
    }
   ],
   "source": [
    "sent.graph"
   ]
  },
  {
   "cell_type": "markdown",
   "metadata": {},
   "source": [
    "It is so, because the phrases headed by \"reshape\" and \"impact\" are linked\n",
    "by a coordinating conjunction token \"and\", which means that effectively\n",
    "they play the same role in the sentence, so the subject of \"reshape\"\n",
    "is also the subject of \"impact\". And this is correctly recognized by `segram`.\n",
    "\n",
    "Conjoined groups like this one are represented with a special sequence type\n",
    "`segram.grammar.conjuncts.Conjunct`, which also keeps track of the information\n",
    "of the conjunction tokens (both coordinating conjunction, and a potential preconjunction)."
   ]
  },
  {
   "cell_type": "code",
   "execution_count": 46,
   "metadata": {},
   "outputs": [
    {
     "data": {
      "text/plain": [
       "[and](\u001b[38;5;219mRecent\u001b[0m \u001b[38;5;10mbreakthroughs\u001b[0m \u001b[38;5;191min\u001b[0m \u001b[38;5;219martificial\u001b[0m \u001b[38;5;6minteligence\u001b[0m may \u001b[38;5;196mreshape\u001b[0m the \u001b[38;5;12msociety\u001b[0m, \u001b[38;5;219mRecent\u001b[0m \u001b[38;5;10mbreakthroughs\u001b[0m \u001b[38;5;191min\u001b[0m \u001b[38;5;219martificial\u001b[0m \u001b[38;5;6minteligence\u001b[0m \u001b[38;5;219msignificantly\u001b[0m \u001b[38;5;196mimpact\u001b[0m the \u001b[38;5;219meconomic\u001b[0m \u001b[38;5;12msystem\u001b[0m)"
      ]
     },
     "execution_count": 46,
     "metadata": {},
     "output_type": "execute_result"
    }
   ],
   "source": [
    "sent.proots"
   ]
  },
  {
   "cell_type": "markdown",
   "metadata": {},
   "source": [
    "For performance reasons non-root phrases getters such as `sent.phrases`,\n",
    "do not group them in conjunct groups. However, this can be done very easily\n",
    "when needed."
   ]
  },
  {
   "cell_type": "code",
   "execution_count": 49,
   "metadata": {},
   "outputs": [
    {
     "data": {
      "text/plain": [
       "((\u001b[38;5;219mRecent\u001b[0m),\n",
       " (\u001b[38;5;219mRecent\u001b[0m \u001b[38;5;10mbreakthroughs\u001b[0m \u001b[38;5;191min\u001b[0m \u001b[38;5;219martificial\u001b[0m \u001b[38;5;6minteligence\u001b[0m),\n",
       " (\u001b[38;5;191min\u001b[0m \u001b[38;5;219martificial\u001b[0m \u001b[38;5;6minteligence\u001b[0m),\n",
       " (\u001b[38;5;219martificial\u001b[0m),\n",
       " (\u001b[38;5;219martificial\u001b[0m \u001b[38;5;6minteligence\u001b[0m),\n",
       " [and](\u001b[38;5;219mRecent\u001b[0m \u001b[38;5;10mbreakthroughs\u001b[0m \u001b[38;5;191min\u001b[0m \u001b[38;5;219martificial\u001b[0m \u001b[38;5;6minteligence\u001b[0m may \u001b[38;5;196mreshape\u001b[0m the \u001b[38;5;12msociety\u001b[0m, \u001b[38;5;219mRecent\u001b[0m \u001b[38;5;10mbreakthroughs\u001b[0m \u001b[38;5;191min\u001b[0m \u001b[38;5;219martificial\u001b[0m \u001b[38;5;6minteligence\u001b[0m \u001b[38;5;219msignificantly\u001b[0m \u001b[38;5;196mimpact\u001b[0m the \u001b[38;5;219meconomic\u001b[0m \u001b[38;5;12msystem\u001b[0m),\n",
       " (the \u001b[38;5;12msociety\u001b[0m),\n",
       " (\u001b[38;5;219msignificantly\u001b[0m),\n",
       " (\u001b[38;5;219meconomic\u001b[0m),\n",
       " (the \u001b[38;5;219meconomic\u001b[0m \u001b[38;5;12msystem\u001b[0m))"
      ]
     },
     "execution_count": 49,
     "metadata": {},
     "output_type": "execute_result"
    }
   ],
   "source": [
    "sent.phrases.conjs\n",
    "# Note the sixth item which is a conjunct group of the two root phrases"
   ]
  },
  {
   "cell_type": "markdown",
   "metadata": {},
   "source": [
    "### Sentence as a hypergraph of phrases\n",
    "\n",
    "The fact that sentences are formed of phrases, which themselves group\n",
    "components and other phrases (or more generally tokens), means that there\n",
    "is a correspondence between such conceived syntactic structure of a sentence\n",
    "and a hypergraph with hyperedges corresponding to phrases.\n",
    "\n",
    "Currently, `segram` does not provide any features explicitly based on this\n",
    "idea, but they will be added in future releases. Moreover, it is already\n",
    "relatively easy to convert `segram` data to hypergraphs compatible with\n",
    "libraries for analysis of higher-order networks such as [XGI](https://pypi.org/project/xgi/).\n",
    "Some examples are presented in notebook `3-representations.ipynb`.\n",
    "\n",
    "And below is an example of a hypergraph representation of the sentence:"
   ]
  },
  {
   "cell_type": "code",
   "execution_count": 67,
   "metadata": {},
   "outputs": [
    {
     "data": {
      "text/plain": [
       "\u001b[38;5;219mRecent\u001b[0m \u001b[38;5;220mbreakthroughs\u001b[0m \u001b[38;5;191min\u001b[0m \u001b[38;5;219martificial\u001b[0m \u001b[38;5;220minteligence\u001b[0m \u001b[38;5;196mmay\u001b[0m \u001b[38;5;196mreshape\u001b[0m \u001b[38;5;220mthe\u001b[0m \u001b[38;5;220msociety\u001b[0m \u001b[38;5;191min\u001b[0m \u001b[38;5;219msome\u001b[0m \u001b[38;5;219mgood\u001b[0m \u001b[38;5;219mand\u001b[0m \u001b[38;5;219msome\u001b[0m \u001b[38;5;219mbad\u001b[0m \u001b[38;5;220mways\u001b[0m\u001b[38;5;196m.\u001b[0m"
      ]
     },
     "execution_count": 67,
     "metadata": {},
     "output_type": "execute_result"
    }
   ],
   "source": [
    "nlp(\n",
    "    \"Recent breakthroughs in artificial inteligence \"\n",
    "    \"may reshape the society in some good and some bad ways.\"\n",
    ")._.segram"
   ]
  },
  {
   "cell_type": "markdown",
   "metadata": {},
   "source": [
    "![DD](../docs/figures/hypergraph.png)"
   ]
  }
 ],
 "metadata": {
  "kernelspec": {
   "display_name": "Python 3 (ipykernel)",
   "language": "python",
   "name": "python3"
  },
  "language_info": {
   "codemirror_mode": {
    "name": "ipython",
    "version": 3
   },
   "file_extension": ".py",
   "mimetype": "text/x-python",
   "name": "python",
   "nbconvert_exporter": "python",
   "pygments_lexer": "ipython3",
   "version": "3.11.5"
  }
 },
 "nbformat": 4,
 "nbformat_minor": 4
}
