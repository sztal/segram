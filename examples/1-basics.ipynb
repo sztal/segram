{
 "cells": [
  {
   "cell_type": "markdown",
   "metadata": {},
   "source": [
    "# `Segram` basics and single document analysis\n",
    "\n",
    "This notebook covers the basics of using `segram` package with a particular\n",
    "focus on the main functionalities provided by grammar classes\n",
    "(`segram.Doc`, `segram.Sent`, `segram.Phrase` and `segram.Component`)\n",
    "and analysis of a single document.\n",
    "\n",
    "<div class=\"alert alert-block alert-info\">\n",
    "For a more detailed discussion of the package and its features,\n",
    "including supported languages and language models, see the README file in the \n",
    "root directory of the <a href=\"https://github.com/sztal/segram\">Github repository</a>.\n",
    "</div>\n",
    "\n",
    "<div class=\"alert alert-block alert-warning\">\n",
    "For the code to run without any problems make sure that `spacy`\n",
    "and `segram` have been installed according to the instructions\n",
    "from README.\n",
    "</div>"
   ]
  },
  {
   "cell_type": "markdown",
   "metadata": {},
   "source": [
    "## Loading and configuring language model and pipeline components\n",
    "\n",
    "`Segram` is based on the excellent <a href=\"https://spacy.io/\">spacy</a> \n",
    "package, which is used to solve the core NLP tasks such as tokenization, \n",
    "POS and dependency tagging and entity recognition. Thus, before `segram` can be \n",
    "used it is necessary to load and initialize a `spacy` language model.\n",
    "As a matter of fact, `segram` functionalities are provided by a \n",
    "dedicated pipeline component, which is automatically registered with `spacy`\n",
    "upon the package installation.\n",
    "\n",
    "Crucially, to do any work we first need to download and install appropriate\n",
    "language models. In this respect `segram` is fully dependent on `spacy`,\n",
    "so we need only to download thoroughly tested models offered by `spacy`.\n",
    "We will need three different models:\n",
    "\n",
    "1. **Main English model based on the transformer architecture.**\n",
    "   In an environment in which `spacy` is already installed the\n",
    "   model can be obtained with the command `python -m spacy download en_core_web_trf`.\n",
    "2. **Word vector model.** The transformer model is powerful, but it does\n",
    "   not provide static word vectors, but only context-dependent vectors.\n",
    "   To use structured matching implemented in `segram` we need to have access\n",
    "   to context-free word vectors, so we obtain them from a different model.\n",
    "   This one can be downloaded with: `python -m spacy download en_core_web_lg`.\n",
    "3. **Coreference resolution model.** The last model will be used for implementing\n",
    "   coreference resolution. This is still experimental feature not integrated\n",
    "   into the core of `spacy`, so that is why we need to use an extra model\n",
    "   for that. It can be installed with:\n",
    "   `pip install https://github.com/explosion/spacy-experimental/releases/download/v0.6.1/en_coreference_web_trf-3.4.0a2-py3-none-any.whl`."
   ]
  },
  {
   "cell_type": "code",
   "execution_count": 1,
   "metadata": {},
   "outputs": [
    {
     "data": {
      "text/plain": [
       "<segram.nlp.pipeline.coref.Coref at 0x7f3f79892610>"
      ]
     },
     "execution_count": 1,
     "metadata": {},
     "output_type": "execute_result"
    }
   ],
   "source": [
    "import spacy\n",
    "nlp = spacy.load(\"en_core_web_trf\")\n",
    "nlp.add_pipe(\"segram\", config={\n",
    "    \"vectors\": \"en_core_web_lg\"\n",
    "})\n",
    "nlp.add_pipe(\"segram_coref\")"
   ]
  },
  {
   "cell_type": "markdown",
   "metadata": {},
   "source": [
    "Let us now understand the meaning of the code we executed.\n",
    "\n",
    "1. Import `spacy` package.\n",
    "2. Load model for English using `spacy.load` function.\n",
    "3. Use `.add_pipe` method to add dedicated `segram` component.\n",
    "   The `vectors` option from the config specifies the name of a model\n",
    "   used for obtaining context-free word vectors. This is useful in the\n",
    "   case we want to use a model without such vectors such as `en_core_web_trf`\n",
    "   for solving core NLP tasks. \n",
    "4. Finally, we use `.add_pipe` again to add custom `segram` coreference\n",
    "   resolution model.\n",
    "\n",
    "The code chunk provides a simple text from an article covering the war in Syria\n",
    "(see `README` in the `examples/data` directory to learn mode about the dataset).\n",
    "\n",
    "<div class=\"alert alert-block alert-info\">\n",
    "We cover more complex analyses based on multiple texts\n",
    "in <tt>2-stories-and-frames.ipynb</tt> notebook.\n",
    "</div>"
   ]
  },
  {
   "cell_type": "code",
   "execution_count": 2,
   "metadata": {},
   "outputs": [],
   "source": [
    "text = (\n",
    "    \"Victims of a suspected chemical attack in Syria appeared to show symptoms\"\n",
    "    \" consistent with reaction to a nerve agent the World Health Organization said on Wednesday.\"\n",
    "    \" \\\"Some cases appear to show additional signs consistent with exposure to \"\n",
    "    \"organophosphorus chemicals a category of chemicals that includes nerve agents\\\"\"\n",
    "    \" WHO said in a statement putting the death toll at at least 70.\"\n",
    "    \" The United States has said the deaths were caused by sarin nerve gas dropped by Syrian aircraft.\"\n",
    "    \" Russia has said it believes poison gas had leaked from a rebel chemical weapons depot struck by Syrian bombs.\"\n",
    "    \" Sarin is an organophosporus compound and a nerve agent.\"\n",
    "    \" Chlorine and mustard gas which are also believed to have been used in the past in Syria are not.\"\n",
    "    \" A Russian Defence Ministry spokesman did not say what agent was used \"\n",
    "    \"in the attack but said the rebels had used the same chemical weapons in Aleppo last year.\"\n",
    "    \" The WHO said it was likely that some kind of chemical was used in the attack \"\n",
    "    \"because sufferers had no apparent external injuries and died from a rapid onset\"\n",
    "    \" of similar symptoms including acute respiratory distress. \"\n",
    "    \"It said its experts in Turkey were giving guidance to overwhelmed \"\n",
    "    \"health workers in Idlib on the diagnosis and treatment of patients and \"\n",
    "    \"medicines such as Atropine an antidote for some types of chemical exposure \"\n",
    "    \"and steroids for symptomatic treatment had been sent. \"\n",
    "    \"A U.N. Commission of Inquiry into human rights in Syria has previously said\"\n",
    "    \" forces loyal to Syrian President Bashar al-Assad have used lethal chlorine gas on multiple occasions.\"\n",
    "    \" Hundreds of civilians died in a sarin gas attack in Ghouta on the outskirts of Damascus in August 2013.\"\n",
    "    \" Assads government has always denied responsibility for that attack.\"\n",
    "    \" Syria agreed to destroy its chemical weapons in 2013 under a deal brokered by Moscow and Washington.\"\n",
    "    \" But Russia a Syrian ally and China have repeatedly vetoed any United Nations \"\n",
    "    \"move to sanction Assad or refer the situation in Syria to the International Criminal Court.\"\n",
    "    \" \\\"These types of weapons are banned by international law because they represent an intolerable barbarism\\\"\"\n",
    "    \" Peter Salama Executive Director of the WHO Health Emergencies Programme said in the WHO statement.\"\n",
    ")"
   ]
  },
  {
   "cell_type": "markdown",
   "metadata": {},
   "source": [
    "Now, we are read to create our first document object. We simply follow the API\n",
    "of `spacy` and pass the text to our language model stored as `nlp` variable."
   ]
  },
  {
   "cell_type": "code",
   "execution_count": 18,
   "metadata": {},
   "outputs": [
    {
     "data": {
      "text/plain": [
       "Victims of a suspected chemical attack in Syria appeared to show symptoms consistent with reaction to a nerve agent the World Health Organization said on Wednesday. \"Some cases appear to show additional signs consistent with exposure to organophosphorus chemicals a category of chemicals that includes nerve agents\" WHO said in a statement putting the death toll at at least 70. The United States has said the deaths were caused by sarin nerve gas dropped by Syrian aircraft. Russia has said it believes poison gas had leaked from a rebel chemical weapons depot struck by Syrian bombs. Sarin is an organophosporus compound and a nerve agent. Chlorine and mustard gas which are also believed to have been used in the past in Syria are not. A Russian Defence Ministry spokesman did not say what agent was used in the attack but said the rebels had used the same chemical weapons in Aleppo last year. The WHO said it was likely that some kind of chemical was used in the attack because sufferers had no apparent external injuries and died from a rapid onset of similar symptoms including acute respiratory distress. It said its experts in Turkey were giving guidance to overwhelmed health workers in Idlib on the diagnosis and treatment of patients and medicines such as Atropine an antidote for some types of chemical exposure and steroids for symptomatic treatment had been sent. A U.N. Commission of Inquiry into human rights in Syria has previously said forces loyal to Syrian President Bashar al-Assad have used lethal chlorine gas on multiple occasions. Hundreds of civilians died in a sarin gas attack in Ghouta on the outskirts of Damascus in August 2013. Assads government has always denied responsibility for that attack. Syria agreed to destroy its chemical weapons in 2013 under a deal brokered by Moscow and Washington. But Russia a Syrian ally and China have repeatedly vetoed any United Nations move to sanction Assad or refer the situation in Syria to the International Criminal Court. \"These types of weapons are banned by international law because they represent an intolerable barbarism\" Peter Salama Executive Director of the WHO Health Emergencies Programme said in the WHO statement."
      ]
     },
     "execution_count": 18,
     "metadata": {},
     "output_type": "execute_result"
    }
   ],
   "source": [
    "doc = nlp(text)"
   ]
  },
  {
   "cell_type": "code",
   "execution_count": 20,
   "metadata": {},
   "outputs": [
    {
     "name": "stdout",
     "output_type": "stream",
     "text": [
      "1.68 µs ± 29 ns per loop (mean ± std. dev. of 7 runs, 1,000,000 loops each)\n"
     ]
    }
   ],
   "source": [
    "%%timeit\n",
    "doc.grammar"
   ]
  },
  {
   "cell_type": "markdown",
   "metadata": {},
   "source": []
  }
 ],
 "metadata": {
  "kernelspec": {
   "display_name": "Python 3 (ipykernel)",
   "language": "python",
   "name": "python3"
  },
  "language_info": {
   "codemirror_mode": {
    "name": "ipython",
    "version": 3
   },
   "file_extension": ".py",
   "mimetype": "text/x-python",
   "name": "python",
   "nbconvert_exporter": "python",
   "pygments_lexer": "ipython3",
   "version": "3.11.5"
  }
 },
 "nbformat": 4,
 "nbformat_minor": 4
}
