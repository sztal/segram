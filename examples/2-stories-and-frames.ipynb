{
 "cells": [
  {
   "cell_type": "code",
   "execution_count": null,
   "metadata": {},
   "outputs": [],
   "source": [
    "import re\n",
    "from pathlib import Path\n",
    "import pandas as pd\n",
    "\n",
    "# Read dataset of articles coveriing the war in Syria\n",
    "data = pd.read_csv(Path(\".\")/\"FA-KES-Dataset.csv\", encoding=\"latin\")\n",
    "\n",
    "# Sanitize beginnings of content strings to get rid of publication dates\n",
    "# and other metadata. This is done using a few regular expressions\n",
    "#\n",
    "# Get rid of publication dates\n",
    "pattern1 = r\"^(\" \\\n",
    "    r\"\\s*([A-Z]\\w+)?\\s*\\d{1,2}\\s*([A-Z]\\w+)?\\s*\\d{2,4}\\s*\" \\\n",
    "    r\"|\" \\\n",
    "    r\"\\d{1,2}[-\\.]\\d{1,2}[-\\.]\\d{2,4}\\s*\" \\\n",
    "    r\")\" \\\n",
    "    r\"(\\s*at\\s*\\d+:?\\d+)?\"\n",
    "# Get rid of update dates\n",
    "pattern2 = r\"^\\s*(\\(updated\\s*[\\w\\d]*\\s*\\))\\s*\"\n",
    "# Get rid of get url shout outs\n",
    "pattern3 = r\"^\\s*get\\s*short\\s*url\\s*([\\d\\w]+\\s*)*\"\n",
    "\n",
    "# Sanitize the content column\n",
    "data[\"article_content\"] = data[\"article_content\"] \\\n",
    "    .str.replace(pattern1, r\"\", regex=True) \\\n",
    "    .str.replace(pattern2, r\"\", regex=True, flags=re.IGNORECASE) \\\n",
    "    .str.replace(pattern3, r\"\", regex=True, flags=re.IGNORECASE) \\\n",
    "    .str.strip()"
   ]
  }
 ],
 "metadata": {
  "kernelspec": {
   "display_name": "segram",
   "language": "python",
   "name": "python3"
  },
  "language_info": {
   "name": "python",
   "version": "3.11.5"
  },
  "orig_nbformat": 4
 },
 "nbformat": 4,
 "nbformat_minor": 2
}
