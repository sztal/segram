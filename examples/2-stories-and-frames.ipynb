{
 "cells": [
  {
   "cell_type": "code",
   "execution_count": 11,
   "metadata": {},
   "outputs": [],
   "source": [
    "import re\n",
    "from pathlib import Path\n",
    "import numpy as np\n",
    "import pandas as pd\n",
    "import matplotlib as mpl\n",
    "import matplotlib.pyplot as plt\n",
    "import spacy\n",
    "from segram import Corpus, Story\n",
    "\n",
    "# Use GPU acceleration for parsing documents if available\n",
    "spacy.prefer_gpu()\n",
    "\n",
    "# Read dataset of articles coveriing the war in Syria\n",
    "data = pd.read_csv(Path(\".\")/\"data\"/\"FA-KES-Dataset.csv\", encoding=\"latin\")\n",
    "\n",
    "# Sanitize beginnings of content strings to get rid of publication dates\n",
    "# and other metadata. This is done using a few regular expressions\n",
    "#\n",
    "# Get rid of publication dates\n",
    "pattern1 = r\"^(\" \\\n",
    "    r\"\\s*([A-Z]\\w+)?\\s*\\d{1,2}\\s*([A-Z]\\w+)?\\s*\\d{2,4}\\s*\" \\\n",
    "    r\"|\" \\\n",
    "    r\"\\d{1,2}[-\\.]\\d{1,2}[-\\.]\\d{2,4}\\s*\" \\\n",
    "    r\")\" \\\n",
    "    r\"(\\s*at\\s*\\d+:?\\d+)?\"\n",
    "# Get rid of update dates\n",
    "pattern2 = r\"^\\s*(\\(updated\\s*[\\w\\d]*\\s*\\))\\s*\"\n",
    "# Get rid of get url shout outs\n",
    "pattern3 = r\"^\\s*get\\s*short\\s*url\\s*([\\d\\w]+\\s*)*\"\n",
    "\n",
    "# Sanitize the content column\n",
    "data[\"article_content\"] = data[\"article_content\"] \\\n",
    "    .str.replace(pattern1, r\"\", regex=True) \\\n",
    "    .str.replace(pattern2, r\"\", regex=True, flags=re.IGNORECASE) \\\n",
    "    .str.replace(pattern3, r\"\", regex=True, flags=re.IGNORECASE) \\\n",
    "    .str.strip()"
   ]
  },
  {
   "cell_type": "code",
   "execution_count": 12,
   "metadata": {},
   "outputs": [
    {
     "data": {
      "text/plain": [
       "<segram.nlp.pipeline.coref.Coref at 0x7fc640c2ba50>"
      ]
     },
     "execution_count": 12,
     "metadata": {},
     "output_type": "execute_result"
    }
   ],
   "source": [
    "nlp = spacy.load(\"en_core_web_trf\")\n",
    "nlp.add_pipe(\"segram\", config={\n",
    "    \"vectors\": \"en_core_web_lg\"\n",
    "})\n",
    "nlp.add_pipe(\"segram_coref\")"
   ]
  },
  {
   "cell_type": "code",
   "execution_count": 13,
   "metadata": {},
   "outputs": [],
   "source": [
    "fpath = Path(\".\").absolute()/\"data\"/\"titles.segram\"\n",
    "if fpath.exists():\n",
    "    titles = Corpus.from_disk(fpath, vocab=nlp.vocab)\n",
    "else:\n",
    "    titles = Corpus.from_texts(nlp, *data[\"article_title\"], progress=True)\n",
    "    titles.to_disk(fpath, nlp=False, vocab=False)\n",
    "# Make sure word vectors are stored on CPU after parsing\n",
    "# this is usually desirable when using semantic similarity methods\n",
    "titles.ensure_cpu_vectors()\n",
    "titles = Story(titles)"
   ]
  },
  {
   "cell_type": "code",
   "execution_count": null,
   "metadata": {},
   "outputs": [],
   "source": [
    "sents = titles.sents.tuple.filter(lambda s: s.text)\n",
    "sents[0].similarity(sents[1])\n",
    "S = np.zeros((len(sents), len(sents)), dtype=float)\n",
    "for i, si in tqdm(tuple(enumerate(sents))):\n",
    "    for j, sj in enumerate(sents[:i]):\n",
    "        S[i, j] = si.similarity(sj, method=\"phrases\")\n",
    "\n",
    "S += S.T\n",
    "np.fill_diagonal(S, 1)\n",
    "S = (S + S.T) / 2\n",
    "\n",
    "L, V = np.linalg.eigh(S)\n",
    "L = np.diag(np.clip(L, 0, None)[::-1])\n",
    "V = V[:, ::-1]\n",
    "Z = (V@np.sqrt(L))[:, :2]\n",
    "var_explained = L.diagonal() / L.diagonal().sum()"
   ]
  }
 ],
 "metadata": {
  "kernelspec": {
   "display_name": "segram",
   "language": "python",
   "name": "python3"
  },
  "language_info": {
   "codemirror_mode": {
    "name": "ipython",
    "version": 3
   },
   "file_extension": ".py",
   "mimetype": "text/x-python",
   "name": "python",
   "nbconvert_exporter": "python",
   "pygments_lexer": "ipython3",
   "version": "3.11.5"
  },
  "orig_nbformat": 4
 },
 "nbformat": 4,
 "nbformat_minor": 2
}
