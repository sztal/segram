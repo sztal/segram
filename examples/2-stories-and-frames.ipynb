{
 "cells": [
  {
   "cell_type": "code",
   "execution_count": 1,
   "metadata": {},
   "outputs": [],
   "source": [
    "import re\n",
    "from pathlib import Path\n",
    "import pandas as pd\n",
    "import spacy\n",
    "from segram import Corpus, Story\n",
    "\n",
    "# Read dataset of articles coveriing the war in Syria\n",
    "data = pd.read_csv(Path(\".\")/\"data\"/\"FA-KES-Dataset.csv\", encoding=\"latin\")\n",
    "\n",
    "# Sanitize beginnings of content strings to get rid of publication dates\n",
    "# and other metadata. This is done using a few regular expressions\n",
    "#\n",
    "# Get rid of publication dates\n",
    "pattern1 = r\"^(\" \\\n",
    "    r\"\\s*([A-Z]\\w+)?\\s*\\d{1,2}\\s*([A-Z]\\w+)?\\s*\\d{2,4}\\s*\" \\\n",
    "    r\"|\" \\\n",
    "    r\"\\d{1,2}[-\\.]\\d{1,2}[-\\.]\\d{2,4}\\s*\" \\\n",
    "    r\")\" \\\n",
    "    r\"(\\s*at\\s*\\d+:?\\d+)?\"\n",
    "# Get rid of update dates\n",
    "pattern2 = r\"^\\s*(\\(updated\\s*[\\w\\d]*\\s*\\))\\s*\"\n",
    "# Get rid of get url shout outs\n",
    "pattern3 = r\"^\\s*get\\s*short\\s*url\\s*([\\d\\w]+\\s*)*\"\n",
    "\n",
    "# Sanitize the content column\n",
    "data[\"article_content\"] = data[\"article_content\"] \\\n",
    "    .str.replace(pattern1, r\"\", regex=True) \\\n",
    "    .str.replace(pattern2, r\"\", regex=True, flags=re.IGNORECASE) \\\n",
    "    .str.replace(pattern3, r\"\", regex=True, flags=re.IGNORECASE) \\\n",
    "    .str.strip()"
   ]
  },
  {
   "cell_type": "code",
   "execution_count": 2,
   "metadata": {},
   "outputs": [
    {
     "data": {
      "text/plain": [
       "<segram.nlp.pipeline.coref.Coref at 0x7f0083d27190>"
      ]
     },
     "execution_count": 2,
     "metadata": {},
     "output_type": "execute_result"
    }
   ],
   "source": [
    "nlp = spacy.load(\"en_core_web_trf\")\n",
    "nlp.add_pipe(\"segram\", config={\n",
    "    \"vectors\": \"en_core_web_lg\"\n",
    "})\n",
    "nlp.add_pipe(\"segram_coref\")"
   ]
  },
  {
   "cell_type": "code",
   "execution_count": 3,
   "metadata": {},
   "outputs": [
    {
     "data": {
      "application/vnd.jupyter.widget-view+json": {
       "model_id": "281862e35abf4a1c9f20df8db87af94e",
       "version_major": 2,
       "version_minor": 0
      },
      "text/plain": [
       "0it [00:00, ?it/s]"
      ]
     },
     "metadata": {},
     "output_type": "display_data"
    }
   ],
   "source": [
    "titles = Corpus.from_texts(nlp, *data[\"article_title\"], progress=True)"
   ]
  },
  {
   "cell_type": "code",
   "execution_count": 4,
   "metadata": {},
   "outputs": [],
   "source": [
    "fpath = Path(\".\")/\"data\"/\"titles.segram\"\n",
    "titles.to_disk(fpath, vocab=False, nlp=False)"
   ]
  },
  {
   "cell_type": "code",
   "execution_count": 14,
   "metadata": {},
   "outputs": [
    {
     "data": {
      "text/plain": [
       "PosixPath('/home/sztal/Coding/python/segram/examples/data/titles.segram')"
      ]
     },
     "execution_count": 14,
     "metadata": {},
     "output_type": "execute_result"
    }
   ],
   "source": [
    "fpath.absolute()"
   ]
  },
  {
   "cell_type": "code",
   "execution_count": 12,
   "metadata": {},
   "outputs": [
    {
     "name": "stdout",
     "output_type": "stream",
     "text": [
      "Unexpected exception formatting exception. Falling back to standard exception\n"
     ]
    },
    {
     "name": "stderr",
     "output_type": "stream",
     "text": [
      "Traceback (most recent call last):\n",
      "  File \"/home/sztal/miniconda3/envs/segram/lib/python3.11/site-packages/IPython/core/interactiveshell.py\", line 3526, in run_code\n",
      "    exec(code_obj, self.user_global_ns, self.user_ns)\n",
      "  File \"/tmp/ipykernel_32339/1391504927.py\", line 1, in <module>\n",
      "    Corpus.from_disk(fpath)\n",
      "  File \"/home/sztal/Coding/python/segram/segram/nlp/corpus.py\", line 314, in from_disk\n",
      "  File \"/home/sztal/Coding/python/segram/segram/nlp/corpus.py\", line 271, in from_data\n",
      "    data[\"vocab\"] = vocab\n",
      "                          \n",
      "KeyError: 'vocab'\n",
      "\n",
      "During handling of the above exception, another exception occurred:\n",
      "\n",
      "Traceback (most recent call last):\n",
      "  File \"/home/sztal/miniconda3/envs/segram/lib/python3.11/site-packages/IPython/core/interactiveshell.py\", line 2120, in showtraceback\n",
      "    stb = self.InteractiveTB.structured_traceback(\n",
      "          ^^^^^^^^^^^^^^^^^^^^^^^^^^^^^^^^^^^^^^^^\n",
      "  File \"/home/sztal/miniconda3/envs/segram/lib/python3.11/site-packages/IPython/core/ultratb.py\", line 1435, in structured_traceback\n",
      "    return FormattedTB.structured_traceback(\n",
      "           ^^^^^^^^^^^^^^^^^^^^^^^^^^^^^^^^^\n",
      "  File \"/home/sztal/miniconda3/envs/segram/lib/python3.11/site-packages/IPython/core/ultratb.py\", line 1326, in structured_traceback\n",
      "    return VerboseTB.structured_traceback(\n",
      "           ^^^^^^^^^^^^^^^^^^^^^^^^^^^^^^^\n",
      "  File \"/home/sztal/miniconda3/envs/segram/lib/python3.11/site-packages/IPython/core/ultratb.py\", line 1173, in structured_traceback\n",
      "    formatted_exception = self.format_exception_as_a_whole(etype, evalue, etb, number_of_lines_of_context,\n",
      "                          ^^^^^^^^^^^^^^^^^^^^^^^^^^^^^^^^^^^^^^^^^^^^^^^^^^^^^^^^^^^^^^^^^^^^^^^^^^^^^^^^\n",
      "  File \"/home/sztal/miniconda3/envs/segram/lib/python3.11/site-packages/IPython/core/ultratb.py\", line 1088, in format_exception_as_a_whole\n",
      "    frames.append(self.format_record(record))\n",
      "                  ^^^^^^^^^^^^^^^^^^^^^^^^^^\n",
      "  File \"/home/sztal/miniconda3/envs/segram/lib/python3.11/site-packages/IPython/core/ultratb.py\", line 970, in format_record\n",
      "    frame_info.lines, Colors, self.has_colors, lvals\n",
      "    ^^^^^^^^^^^^^^^^\n",
      "  File \"/home/sztal/miniconda3/envs/segram/lib/python3.11/site-packages/IPython/core/ultratb.py\", line 792, in lines\n",
      "    return self._sd.lines\n",
      "           ^^^^^^^^^^^^^^\n",
      "  File \"/home/sztal/miniconda3/envs/segram/lib/python3.11/site-packages/stack_data/utils.py\", line 145, in cached_property_wrapper\n",
      "    value = obj.__dict__[self.func.__name__] = self.func(obj)\n",
      "                                               ^^^^^^^^^^^^^^\n",
      "  File \"/home/sztal/miniconda3/envs/segram/lib/python3.11/site-packages/stack_data/core.py\", line 698, in lines\n",
      "    pieces = self.included_pieces\n",
      "             ^^^^^^^^^^^^^^^^^^^^\n",
      "  File \"/home/sztal/miniconda3/envs/segram/lib/python3.11/site-packages/stack_data/utils.py\", line 145, in cached_property_wrapper\n",
      "    value = obj.__dict__[self.func.__name__] = self.func(obj)\n",
      "                                               ^^^^^^^^^^^^^^\n",
      "  File \"/home/sztal/miniconda3/envs/segram/lib/python3.11/site-packages/stack_data/core.py\", line 649, in included_pieces\n",
      "    pos = scope_pieces.index(self.executing_piece)\n",
      "                             ^^^^^^^^^^^^^^^^^^^^\n",
      "  File \"/home/sztal/miniconda3/envs/segram/lib/python3.11/site-packages/stack_data/utils.py\", line 145, in cached_property_wrapper\n",
      "    value = obj.__dict__[self.func.__name__] = self.func(obj)\n",
      "                                               ^^^^^^^^^^^^^^\n",
      "  File \"/home/sztal/miniconda3/envs/segram/lib/python3.11/site-packages/stack_data/core.py\", line 628, in executing_piece\n",
      "    return only(\n",
      "           ^^^^^\n",
      "  File \"/home/sztal/miniconda3/envs/segram/lib/python3.11/site-packages/executing/executing.py\", line 164, in only\n",
      "    raise NotOneValueFound('Expected one value, found 0')\n",
      "executing.executing.NotOneValueFound: Expected one value, found 0\n"
     ]
    }
   ],
   "source": [
    "Corpus.from_disk(fpath, vocab=nlp.vocab)"
   ]
  },
  {
   "cell_type": "code",
   "execution_count": 8,
   "metadata": {},
   "outputs": [],
   "source": [
    "D = Corpus.from_disk(\"test\")"
   ]
  }
 ],
 "metadata": {
  "kernelspec": {
   "display_name": "segram",
   "language": "python",
   "name": "python3"
  },
  "language_info": {
   "codemirror_mode": {
    "name": "ipython",
    "version": 3
   },
   "file_extension": ".py",
   "mimetype": "text/x-python",
   "name": "python",
   "nbconvert_exporter": "python",
   "pygments_lexer": "ipython3",
   "version": "3.11.5"
  },
  "orig_nbformat": 4
 },
 "nbformat": 4,
 "nbformat_minor": 2
}
